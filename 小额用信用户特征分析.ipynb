{
 "cells": [
  {
   "cell_type": "markdown",
   "metadata": {},
   "source": [
    "# 准备阶段"
   ]
  },
  {
   "cell_type": "markdown",
   "metadata": {
    "collapsed": true
   },
   "source": [
    "## 数据集描述\n",
    "\n",
    "* 该数据集取自现金贷用户最后一个申请通过事件。<br>\n",
    "\n",
    "* 时间：2018年1月1号~2018年2月10号 <br>\n",
    "\n",
    "* **数据列**需要注意的地方：\n",
    "\n",
    "  * initialamount：授信金额，单位是分\n",
    "  * 列名均为小写\n",
    "\n"
   ]
  },
  {
   "cell_type": "markdown",
   "metadata": {},
   "source": [
    "## 加载依赖的块和库"
   ]
  },
  {
   "cell_type": "code",
   "execution_count": null,
   "metadata": {
    "collapsed": false
   },
   "outputs": [],
   "source": [
    "import numpy as np\n",
    "import pandas as pd\n",
    "import matplotlib.pyplot as plt\n",
    "import matplotlib.cm as cm\n",
    "import seaborn as sns\n",
    "\n",
    "from sklearn import preprocessing\n",
    "from scipy.stats import skew, boxcox\n",
    "import os\n",
    "\n",
    "from pyecharts import Bar\n",
    "import mpld3\n",
    "from mpld3 import plugins\n",
    "\n",
    "%matplotlib inline"
   ]
  },
  {
   "cell_type": "markdown",
   "metadata": {},
   "source": [
    "# 探索性数据分析(EDA)及可视化"
   ]
  },
  {
   "cell_type": "code",
   "execution_count": null,
   "metadata": {
    "collapsed": false
   },
   "outputs": [],
   "source": [
    "# 定义异常值范围\n",
    "na_values=['','NULL','NA','null','na','Na','-9999','Infinity','NaN']\n",
    "xpath='D:\\\\\\xc8\\xd5\\xb3\\xa3\\xb7\\xd6\\xce\\xf6\\xb1\\xa8\\xb8\\xe6\\\\\\xb3\\xac\\xd0\\xa1\\xb6\\xee\\xb7\\xd6\\xce\\xf6\\\\'\n",
    "# 读取数据集\n",
    "data_set_name=pd.read_table(xpath+'data\\\\data_set_name.txt',header=None,sep='\\t',na_values = na_values)\n",
    "data_set=pd.read_table(xpath+'data\\\\data_set.txt',header=None,sep='\\t',na_values = na_values,names=data_set_name[0],index_col=None)\n",
    "\n",
    "# 查看数据集信息\n",
    "print('---------------------------------------数据预览：---------------------------------------------')\n",
    "print(data_set.head())\n",
    "\n",
    "print('---------------------------------------数据集基本信息：---------------------------------------')\n",
    "print(data_set.info())\n",
    "\n",
    "print('---------------------------------------数据统计信息：-----------------------------------------')\n",
    "print(data_set.describe())"
   ]
  },
  {
   "cell_type": "markdown",
   "metadata": {},
   "source": [
    "## 数据处理"
   ]
  },
  {
   "cell_type": "markdown",
   "metadata": {},
   "source": [
    "### 聚合分类变量"
   ]
  },
  {
   "cell_type": "code",
   "execution_count": null,
   "metadata": {
    "collapsed": false
   },
   "outputs": [],
   "source": [
    "# 申请城市city_idx聚合为1线城市，2线城市，3线城市及其他\n",
    "data_set.loc[data_set.city_idx==1.0,'city_index_cut']='1_city'\n",
    "data_set.loc[data_set.city_idx==1.5,'city_index_cut']='2_city'\n",
    "data_set.loc[data_set.city_idx==2.0,'city_index_cut']='3_city'\n",
    "data_set.loc[(data_set.city_idx!=1.0) & (data_set.city_idx!=1.5) & (data_set.city_idx!=2.0),'city_index_cut']='4_city'\n",
    "\n",
    "# 构建新变量，并按照索引排序\n",
    "data_set['city_index_cut'].value_counts(dropna=False).sort_index()"
   ]
  },
  {
   "cell_type": "markdown",
   "metadata": {},
   "source": [
    "### 离散化数值型变量"
   ]
  },
  {
   "cell_type": "code",
   "execution_count": null,
   "metadata": {
    "collapsed": false
   },
   "outputs": [],
   "source": [
    "# age\n",
    "age_bins=[0,18,22,28,35,45,55,np.inf]\n",
    "age_group_names=range(1,len(age_bins))\n",
    "cats=pd.cut(list(data_set['age']),age_bins,right = False,labels=age_group_names) # right=False 表示左闭口右开\n",
    "data_set['age_cut']=list(cats)\n",
    "\n",
    "# 同盾和百度多头\n",
    "duotou_vars=['jiedaiscore','bidnormalscoreexp3v2','prcidnormalscoreexp3v2','phonenormalscoreexp3v2']\n",
    "duotou_bins=[0,20,40,60,80,100]\n",
    "duotou_group_name=range(1,len(duotou_bins))\n",
    "for col in duotou_vars:\n",
    "    cats=pd.cut(list(data_set[col]),duotou_bins,right = False,labels=duotou_group_name)\n",
    "    data_set[str(col)+'_'+'cut']=list(cats)\n",
    "\n",
    "\n",
    "# 手机入网时长 mobileOperatorRegDate\n",
    "mobile_bins=[0,10,20,30,40,np.inf]\n",
    "mobile_group_name=range(1,len(mobile_bins))\n",
    "cats=pd.cut(list(data_set['mobileoperatorregdate']),mobile_bins,right=False,labels=mobile_group_name)\n",
    "data_set['mobileoperatorregdate_cut']=list(cats)\n",
    "\n",
    "\n",
    "# 征信\n",
    "zx_vars=['zxaccountcnt','zxhouseloancnt']\n",
    "zx_bins=[-np.inf,1,5,10,np.inf]\n",
    "zx_group_name=range(1,len(zx_bins))\n",
    "for col in zx_vars:\n",
    "    cats=pd.cut(list(data_set[col]),zx_bins,right=False,labels=zx_group_name)\n",
    "    data_set[str(col)+'_'+'cut']=list(cats)\n",
    "    \n",
    "\n",
    "# preaficoscorev5\n",
    "prea_bins=[0,480,520,550,600,650,np.inf]\n",
    "pre_group_name=range(1,len(prea_bins))\n",
    "cats=pd.cut(list(data_set['preaficoscorev5']),prea_bins,right=False,labels=pre_group_name)\n",
    "data_set['preaficoscorev5_cut']=list(cats)\n",
    "\n"
   ]
  },
  {
   "cell_type": "code",
   "execution_count": null,
   "metadata": {
    "collapsed": false
   },
   "outputs": [],
   "source": [
    "# 概览\n",
    "data_set[['preaficoscorev5','preaficoscorev5_cut','zxaccountcnt','zxaccountcnt_cut','age','age_cut']].head()"
   ]
  },
  {
   "cell_type": "markdown",
   "metadata": {},
   "source": [
    "### 构建逻辑变量"
   ]
  },
  {
   "cell_type": "code",
   "execution_count": null,
   "metadata": {
    "collapsed": false
   },
   "outputs": [],
   "source": [
    "# 判断用户是否用信：due_days大于等于0，表示用户用信\n",
    "action=[]\n",
    "for i in range(len(data_set)):\n",
    "    if data_set['due_days'][i]>=0:\n",
    "        action.append(1)\n",
    "    else :\n",
    "        action.append(0)\n",
    "\n",
    "data_set['action']=action"
   ]
  },
  {
   "cell_type": "code",
   "execution_count": null,
   "metadata": {
    "collapsed": true
   },
   "outputs": [],
   "source": [
    "#  判断是否逾期用户\n",
    "odu_bid=[]\n",
    "for i in range(len(data_set)):\n",
    "    if data_set['due_days'][i]>0:\n",
    "        odu_bid.append(1)\n",
    "    else :\n",
    "        odu_bid.append(0)\n",
    "\n",
    "data_set['odu_bid']=odu_bid"
   ]
  },
  {
   "cell_type": "code",
   "execution_count": null,
   "metadata": {
    "collapsed": false
   },
   "outputs": [],
   "source": [
    "# 判断是否是超小额用户\n",
    "petty_bid=[]\n",
    "for i in range(len(data_set)):\n",
    "    if data_set['initialamount'][i] == 50000:\n",
    "        petty_bid.append(1)\n",
    "    else :\n",
    "        petty_bid.append(0)\n",
    "\n",
    "data_set['petty_bid']=petty_bid"
   ]
  },
  {
   "cell_type": "code",
   "execution_count": null,
   "metadata": {
    "collapsed": true
   },
   "outputs": [],
   "source": [
    "# 判断是否是用信超小额用户\n",
    "action_petty_bid=[]\n",
    "for i in range(len(data_set)):\n",
    "    if data_set['initialamount'][i] == 50000 and data_set['due_days'][i]>=0:\n",
    "        action_petty_bid.append(1)\n",
    "    else :\n",
    "        action_petty_bid.append(0)\n",
    "\n",
    "data_set['action_petty_bid']=action_petty_bid"
   ]
  },
  {
   "cell_type": "code",
   "execution_count": null,
   "metadata": {
    "collapsed": true
   },
   "outputs": [],
   "source": [
    "# 构建白名单和超小额组合字段\n",
    "data_set.loc[data_set.is_white==1,'white_petty_bid']='A'\n",
    "data_set.loc[(data_set.is_white==0)&(data_set.petty_bid==0),'white_petty_bid']='B'\n",
    "data_set.loc[(data_set.is_white==0)&(data_set.petty_bid==1),'white_petty_bid']='C'"
   ]
  },
  {
   "cell_type": "markdown",
   "metadata": {},
   "source": [
    "### 基本数据概览"
   ]
  },
  {
   "cell_type": "code",
   "execution_count": null,
   "metadata": {
    "collapsed": false
   },
   "outputs": [],
   "source": [
    "white_petty_grouped = data_set.groupby('white_petty_bid')\n",
    "# 迭代groupby对象\n",
    "for group, frame in white_petty_grouped:\n",
    "    apply_sum = frame['bid'].count()\n",
    "    action_sum = frame['action'].sum()\n",
    "    odu_sum = frame['odu_bid'].sum()\n",
    "    ratio_action=round(frame['action'].sum()*1.0/frame['bid'].count()*100,2)\n",
    "    ratio_odu=round(frame['odu_bid'].sum()*1.0/frame['action'].sum()*100,2)\n",
    "    print('{}群体授信人数：{}，用信人数：{}，逾期人数{} , 用信率(%)：{}，逾期率(%)：{}'.format(group, apply_sum, action_sum, odu_sum , ratio_action,ratio_odu))"
   ]
  },
  {
   "cell_type": "markdown",
   "metadata": {},
   "source": [
    "结论1：\n",
    "* 整体授信群体一共1083380人，用信581076人，逾期19076人。用信率：53.6%，逾期率：3.2%\n",
    "* 白名单群体用信率和逾期率跟大盘持平\n",
    "* 非白群体中，超小额群体用信意愿最低，且逾期率也最高，明显高于整体非白群体"
   ]
  },
  {
   "cell_type": "markdown",
   "metadata": {},
   "source": [
    "## 透视表\n",
    "\n",
    "* 对于分类型变量，考虑不同组合下，不同群体的分布变化"
   ]
  },
  {
   "cell_type": "markdown",
   "metadata": {},
   "source": [
    "### 超小额"
   ]
  },
  {
   "cell_type": "code",
   "execution_count": null,
   "metadata": {
    "collapsed": false
   },
   "outputs": [],
   "source": [
    "# 表格：超小额用户群体用信人数和逾期人数\n",
    "grouped = data_set.groupby(['petty_bid'])\n",
    "for group, frame in grouped:\n",
    "    print('超小额为{}的申请用户个数：{}'.format(group, len(frame)))\n",
    "\n",
    "grouped.agg({'petty_bid':np.sum,'action': np.sum ,'odu_bid':np.sum})"
   ]
  },
  {
   "cell_type": "markdown",
   "metadata": {},
   "source": [
    "### 白名单"
   ]
  },
  {
   "cell_type": "code",
   "execution_count": null,
   "metadata": {
    "collapsed": false
   },
   "outputs": [],
   "source": [
    "# 表格：超小额用户群体用信人数和逾期人数\n",
    "grouped = data_set.groupby(['is_white'])\n",
    "for group, frame in grouped:\n",
    "    print('名单类型为{}的申请用户个数：{}'.format(group, len(frame)))\n",
    "\n",
    "grouped.agg({'petty_bid':np.sum,'action': np.sum ,'odu_bid':np.sum})"
   ]
  },
  {
   "cell_type": "markdown",
   "metadata": {},
   "source": [
    "### （白名单，超小额）"
   ]
  },
  {
   "cell_type": "code",
   "execution_count": null,
   "metadata": {
    "collapsed": false
   },
   "outputs": [],
   "source": [
    "# 表格：超小额用户群体用信人数和逾期人数\n",
    "grouped = data_set.groupby(['is_white','petty_bid'])\n",
    "for group, frame in grouped:\n",
    "    print('（白名单，超小额）为{}的申请用户个数：{}'.format(group, len(frame)))\n",
    "\n",
    "grouped.agg({'petty_bid':np.sum,'action': np.sum ,'odu_bid':np.sum})"
   ]
  },
  {
   "cell_type": "code",
   "execution_count": null,
   "metadata": {
    "collapsed": false
   },
   "outputs": [],
   "source": [
    "# 作图：三类群体用户和逾期分布\n",
    "plt.figure()\n",
    "ax2 = data_set.groupby(['white_petty_bid','action','odu_bid']).size().plot(kind='bar')\n",
    "ax2.set_title('apply_bid_cnt vs (white_petty_bid , action , odu_bid)')\n",
    "ax2.set_xlabel('(white_petty_bid , action , odu_bid)')\n",
    "ax2.set_ylabel('apply_bid_cnt')\n",
    "\n",
    "# 添加标注\n",
    "for p in ax2.patches:\n",
    "    ax2.annotate(str(format(int(p.get_height()), ',d')), (p.get_x(), p.get_height()*1.01))  "
   ]
  },
  {
   "cell_type": "markdown",
   "metadata": {},
   "source": [
    "由透视表和柱状图可得结论：<br>\n",
    "* 整体高逾期率主要由非白群体造成：22.2%授信人群占比，29.8%的逾期人数占比\n",
    "* 虽然超小额群体在非白人群中的逾期与较高11.8%，但是整体人数占比也较低6.7%。"
   ]
  },
  {
   "cell_type": "markdown",
   "metadata": {},
   "source": [
    "## 数据下钻及可视化\n",
    "\n",
    "* 分析white_petty_bid群体（细分为A，B，C）的用信和逾期指标在不同 **X特征** 下的分布情况\n"
   ]
  },
  {
   "cell_type": "code",
   "execution_count": null,
   "metadata": {
    "collapsed": false
   },
   "outputs": [],
   "source": [
    "# 不同目标群体在不同年龄区间的用信和逾期分布\n",
    "# data_set.pivot_table(values=['bid','action','odu_bid'], index='white_petty_bid', columns='age_cut', aggfunc={\"bid\":len,\"action\":np.sum,\"odu_bid\":np.sum}, margins=True)\n",
    "data_set.pivot_table(values=['action','odu_bid'], index='white_petty_bid', columns='age_cut', aggfunc=np.sum, margins=True)"
   ]
  },
  {
   "cell_type": "code",
   "execution_count": null,
   "metadata": {
    "collapsed": false
   },
   "outputs": [],
   "source": [
    "# 画堆积图\n",
    "age_groups=data_set.pivot_table(values=['action','odu_bid'], index='white_petty_bid', columns='age_cut', aggfunc=np.sum)['odu_bid']\n",
    "A = age_groups.iloc[0, 0 : 6].values\n",
    "B = age_groups.iloc[1, 0 : 6].values\n",
    "C = age_groups.iloc[2, 0 : 6].values\n",
    "labels = age_groups.index.values.tolist()\n",
    "age_cut = age_groups.columns.tolist()\n",
    "\n",
    "bar = Bar(\"age_cut VS white_petty_bid\")\n",
    "bar.add('白名单', age_cut, A, is_stack=True)\n",
    "bar.add('非白非小额', age_cut, B, is_stack=True)\n",
    "bar.add('非白超小额', age_cut, C, is_stack=True)\n",
    "bar"
   ]
  },
  {
   "cell_type": "markdown",
   "metadata": {},
   "source": [
    "结论：<br>\n",
    "* 超小额群体的逾期人群主要分布在18~22岁年龄段,31.2%的用信群体贡献了36.4%的逾期人群"
   ]
  },
  {
   "cell_type": "code",
   "execution_count": null,
   "metadata": {
    "collapsed": false
   },
   "outputs": [],
   "source": [
    "#不同目标群体在不同地区的用信和逾期分布\n",
    "data_set.pivot_table(values=['action','odu_bid'], index='white_petty_bid', columns='city_index_cut', aggfunc=np.sum, margins=True)"
   ]
  },
  {
   "cell_type": "code",
   "execution_count": null,
   "metadata": {
    "collapsed": false
   },
   "outputs": [],
   "source": [
    "# 画堆积图\n",
    "city_groups=data_set.pivot_table(values=['action','odu_bid'], index='white_petty_bid', columns='city_index_cut', aggfunc=np.sum)['action']\n",
    "A = city_groups.iloc[0, 0 : city_groups.shape[1]].values\n",
    "B = city_groups.iloc[1, 0 : city_groups.shape[1]].values\n",
    "C = city_groups.iloc[2, 0 : city_groups.shape[1]].values\n",
    "labels = city_groups.index.values.tolist()\n",
    "city_idx = city_groups.columns.tolist()\n",
    "\n",
    "bar = Bar(\"city_idx VS white_petty_bid\")\n",
    "bar.add('白名单', city_idx, A, is_stack=True)\n",
    "bar.add('非白非小额', city_idx, B, is_stack=True)\n",
    "bar.add('非白超小额', city_idx, C, is_stack=True)\n",
    "bar"
   ]
  },
  {
   "cell_type": "code",
   "execution_count": null,
   "metadata": {
    "collapsed": false
   },
   "outputs": [],
   "source": [
    "# 不同目标群体在不同X特征下的用信和逾期分布\n",
    "# 同盾黑名单\n",
    "tongdunblacklevel=data_set.pivot_table(values=['action','odu_bid'], index='white_petty_bid', columns='tongdunblacklevel', aggfunc=np.sum, margins=True)\n",
    "\n",
    "# prcid分\n",
    "prcidnormalscoreexp3v2_cut=data_set.pivot_table(values=['action','odu_bid'], index='white_petty_bid', columns='prcidnormalscoreexp3v2_cut', aggfunc=np.sum, margins=True)\n",
    "\n",
    "# 学历\n",
    "education=data_set.pivot_table(values=['action','odu_bid'], index='white_petty_bid', columns='education', aggfunc=np.sum, margins=True)\n",
    "\n",
    "# 手机入网时长\n",
    "mobileoperatorregdate_cut=data_set.pivot_table(values=['action','odu_bid'], index='white_petty_bid', columns='mobileoperatorregdate_cut', aggfunc=np.sum, margins=True)\n",
    "\n",
    "# 借贷分\n",
    "jiedaiscore_cut=data_set.pivot_table(values=['action','odu_bid'], index='white_petty_bid', columns='jiedaiscore_cut', aggfunc=np.sum, margins=True)\n",
    "\n",
    "# preA\n",
    "preacustseg=data_set.pivot_table(values=['action','odu_bid'], index='white_petty_bid', columns='preacustseg', aggfunc=np.sum, margins=True)\n",
    "\n",
    "# preA_V5\n",
    "preaficoscorev5_cut=data_set.pivot_table(values=['action','odu_bid'], index='white_petty_bid', columns='preaficoscorev5_cut', aggfunc=np.sum, margins=True)\n"
   ]
  },
  {
   "cell_type": "code",
   "execution_count": null,
   "metadata": {
    "collapsed": false
   },
   "outputs": [],
   "source": [
    "print('不同目标群体在不同X特征下的用信和逾期分布 : ')\n",
    "preaficoscorev5_cut"
   ]
  },
  {
   "cell_type": "code",
   "execution_count": null,
   "metadata": {
    "collapsed": false
   },
   "outputs": [],
   "source": [
    "# 箱图分布\n",
    "fig, axs = plt.subplots(2, 2, figsize=(10, 10))\n",
    "\n",
    "a = sns.boxplot(x='white_petty_bid', y='zxaccountcnt', data=data_set[data_set.odu_bid==1], ax=axs[0][0])\n",
    "# axs[0][0].set_yscale('log')\n",
    "\n",
    "b = sns.boxplot(x='white_petty_bid', y='preaficoscorev5', data=data_set[data_set.odu_bid==1], ax=axs[0][1])\n",
    "# axs[0][1].set(ylim=(0, 0.5e8))\n",
    "\n",
    "c = sns.boxplot(x='white_petty_bid', y='prcidnormalscoreexp3v2', data=data_set[data_set.odu_bid==1], ax=axs[1][0])\n",
    "# axs[1][0].set(ylim=(0, 3e7))\n",
    "\n",
    "d = sns.boxplot(x='white_petty_bid', y='age', data=data_set[data_set.odu_bid==1], ax=axs[1][1])\n",
    "\n",
    "plt.show()\n"
   ]
  },
  {
   "cell_type": "markdown",
   "metadata": {},
   "source": [
    "结论：<br>\n",
    "\n",
    "* 多数超小额群体的部分模型分为空值，如preacustseg，preaficoscorev5等\n",
    "* 由箱图可得，超小额群体的逾期用户年龄和preAsscoreV5分普遍较低"
   ]
  },
  {
   "cell_type": "code",
   "execution_count": null,
   "metadata": {
    "collapsed": false
   },
   "outputs": [],
   "source": [
    "# 箱图分布\n",
    "fig, axs = plt.subplots(4, 2, figsize=(10, 10))\n",
    "\n",
    "a0 = sns.boxplot(x='white_petty_bid', y='zxaccountcnt', data=data_set[data_set.action==1], ax=axs[0][0])\n",
    "a1 = sns.boxplot(x='white_petty_bid', y='zxaccountcnt', data=data_set[data_set.odu_bid==1], ax=axs[0][1])\n",
    "# axs[0][0].set_yscale('log')\n",
    "\n",
    "b0 = sns.boxplot(x='white_petty_bid', y='preaficoscorev5', data=data_set[data_set.action==1], ax=axs[1][0])\n",
    "b1 = sns.boxplot(x='white_petty_bid', y='preaficoscorev5', data=data_set[data_set.odu_bid==1], ax=axs[1][1])\n",
    "# axs[0][1].set(ylim=(0, 0.5e8))\n",
    "\n",
    "c0 = sns.boxplot(x='white_petty_bid', y='prcidnormalscoreexp3v2', data=data_set[data_set.action==1], ax=axs[2][0])\n",
    "c1 = sns.boxplot(x='white_petty_bid', y='prcidnormalscoreexp3v2', data=data_set[data_set.odu_bid==1], ax=axs[2][1])\n",
    "# axs[1][0].set(ylim=(0, 3e7))\n",
    "\n",
    "d0 = sns.boxplot(x='white_petty_bid', y='age', data=data_set[data_set.action==1], ax=axs[3][0])\n",
    "d1 = sns.boxplot(x='white_petty_bid', y='age', data=data_set[data_set.action==1], ax=axs[3][1])\n",
    "\n",
    "plt.show()\n"
   ]
  },
  {
   "cell_type": "markdown",
   "metadata": {},
   "source": [
    "结论：<br>\n",
    "\n",
    "* 虽然超小额群体的逾期用户年龄和preAsscoreV5分普遍较低，但是趋势与大盘一致"
   ]
  },
  {
   "cell_type": "markdown",
   "metadata": {},
   "source": [
    "## 趋势性分析"
   ]
  },
  {
   "cell_type": "code",
   "execution_count": null,
   "metadata": {
    "collapsed": false
   },
   "outputs": [],
   "source": [
    "# 首先构建时间变量\n",
    "from datetime import datetime, date, time\n",
    "from time import strftime, localtime\n",
    "\n",
    "apply_time=data_set['apply_time'].astype(str)\n",
    "apply_day=[]\n",
    "for i in apply_time:\n",
    "    a_1=datetime.strptime(i,\"%Y%m%d%H%M%S\").strftime(\"%m-%d\")\n",
    "    apply_day.append(a_1)\n",
    "\n",
    "data_set['apply_dt']=apply_day\n",
    "data_set['apply_dt']=data_set['apply_dt'].astype(object)"
   ]
  },
  {
   "cell_type": "code",
   "execution_count": null,
   "metadata": {
    "collapsed": false
   },
   "outputs": [],
   "source": [
    "# 不同目标群体逾期人数时间分布\n",
    "line_petty_df=data_set.pivot_table(values=['odu_bid'], index='apply_dt', columns='white_petty_bid', aggfunc=[np.sum])\n",
    "# line_petty_df.plot()\n",
    "\n",
    "# 时间趋势\n",
    "fig, ax = plt.subplots(figsize=(12, 8))\n",
    "labels = ['A','B','C']\n",
    "lines = ax.plot( line_petty_df.values, lw=2)\n",
    "interactive_legend = plugins.InteractiveLegendPlugin(lines, labels)\n",
    "plugins.connect(fig, interactive_legend)\n",
    "\n",
    "mpld3.display()"
   ]
  },
  {
   "cell_type": "code",
   "execution_count": null,
   "metadata": {
    "collapsed": false
   },
   "outputs": [],
   "source": [
    "# 不同目标群体逾期人数时间分布\n",
    "city_petty_df=data_set.pivot_table(values=['odu_bid'], index='apply_dt', columns=['white_petty_bid','city_index_cut'], aggfunc=[np.sum])\n",
    "city_petty_df.plot()"
   ]
  },
  {
   "cell_type": "markdown",
   "metadata": {},
   "source": [
    "## 相关性分析\n",
    "\n",
    "* 对于连续型变量，考虑不同群体下变量间的相关性"
   ]
  },
  {
   "cell_type": "code",
   "execution_count": null,
   "metadata": {
    "collapsed": false
   },
   "outputs": [],
   "source": [
    "# 查看变量间的相关性\n",
    "corr_data=data_set[data_set.petty_bid==1][['white_petty_bid','jiedaiscore','bidnormalscoreexp3v2','prcidnormalscoreexp3v2','preaficoscorev5','zxhouseloancnt','zxaccountcnt','age','due_days','phonenormalscoreexp3v2']]\n",
    "sns.heatmap(corr_data.corr())"
   ]
  },
  {
   "cell_type": "markdown",
   "metadata": {},
   "source": [
    "思考：\n",
    "\n",
    "* 超小额群体中，某些变量存在相关性，通过这些有相关性的变量能否从非白群体中定位超小额用户呢？"
   ]
  },
  {
   "cell_type": "code",
   "execution_count": null,
   "metadata": {
    "collapsed": false,
    "scrolled": false
   },
   "outputs": [],
   "source": [
    "# 筛选非白群体\n",
    "sns_data=data_set[data_set.odu_bid==1][['white_petty_bid','jiedaiscore','bidnormalscoreexp3v2','preaficoscorev5','zxhouseloancnt','zxaccountcnt','age']]\n",
    "sns.pairplot(sns_data, hue='white_petty_bid', diag_kind='kde')"
   ]
  },
  {
   "cell_type": "markdown",
   "metadata": {},
   "source": [
    "结论：\n",
    "\n",
    "* C客群整体在变量preaficoscorev5，zxhouseloancnt分布偏低"
   ]
  },
  {
   "cell_type": "code",
   "execution_count": null,
   "metadata": {
    "collapsed": false
   },
   "outputs": [],
   "source": [
    "# 用于查看多遍量分布\n",
    "petty_data=data_set[data_set.petty_bid==1][['age','jiedaiscore']]\n",
    "plt.figure()\n",
    "grid = sns.jointplot(petty_data['age'], petty_data['jiedaiscore'], alpha=0.7)\n",
    "# grid.ax_joint.set_aspect('equal')"
   ]
  },
  {
   "cell_type": "code",
   "execution_count": null,
   "metadata": {
    "collapsed": false
   },
   "outputs": [],
   "source": [
    "# 用于查看多遍量分布\n",
    "petty_data=data_set[data_set.white_petty_bid!='A'][['due_days','age','jiedaiscore']]\n",
    "# 颜色(c)和大小(s)有 due_days 列的数据决定\n",
    "ax = petty_data.plot('age', 'jiedaiscore', kind='scatter',\n",
    "        c='due_days', s=petty_data['due_days'], colormap='viridis')"
   ]
  },
  {
   "cell_type": "markdown",
   "metadata": {},
   "source": [
    "结论：\n",
    "\n",
    "* 什么样的超小额用户会用信：\n",
    "* 什么样的超小额用户用信后比较容易逾期：\n"
   ]
  },
  {
   "cell_type": "markdown",
   "metadata": {},
   "source": [
    "# 数据建模"
   ]
  },
  {
   "cell_type": "markdown",
   "metadata": {},
   "source": [
    "## 准备数据"
   ]
  },
  {
   "cell_type": "code",
   "execution_count": null,
   "metadata": {
    "collapsed": true
   },
   "outputs": [],
   "source": [
    "#加载所需库\n",
    "import numpy as np\n",
    "import matplotlib.pyplot as plt\n",
    "import pandas as pd\n",
    "import seaborn as sns\n",
    "from sklearn.model_selection import train_test_split\n",
    "from sklearn.metrics import accuracy_score\n",
    "from sklearn.neighbors import KNeighborsClassifier\n",
    "import matplotlib.pyplot as plt\n",
    "from sklearn.neighbors import KNeighborsClassifier\n",
    "from sklearn.metrics import accuracy_score\n",
    "\n",
    "from sklearn.linear_model import LogisticRegression\n",
    "from sklearn.svm import SVC\n",
    "from sklearn.tree import DecisionTreeClassifier"
   ]
  },
  {
   "cell_type": "code",
   "execution_count": null,
   "metadata": {
    "collapsed": false
   },
   "outputs": [],
   "source": [
    "# 构建label\n",
    "data_set.loc[(data_set.is_white==0)&(data_set.petty_bid==1)&(data_set.odu_bid==1),'label']='A'\n",
    "data_set.loc[(data_set.is_white==0)&(data_set.petty_bid==1)&(data_set.odu_bid==0),'label']='B'\n",
    "data_set.loc[(data_set.is_white==1)&(data_set.odu_bid==1),'label']='C'\n",
    "data_set.loc[(data_set.is_white==1)&(data_set.odu_bid==0),'label']='D'"
   ]
  },
  {
   "cell_type": "code",
   "execution_count": null,
   "metadata": {
    "collapsed": true
   },
   "outputs": [],
   "source": [
    "# 数据集扩充和抽样\n",
    "data_1=pd.concat([data_set[data_set.label=='A']]*10)\n",
    "data_2=data_set[data_set.label=='B'].sample(n=7000)\n",
    "data_3=data_set[data_set.label=='C'].sample(n=7000)\n",
    "data_4=data_set[data_set.label=='D'].sample(n=7000)\n",
    "\n",
    "# 合并数据\n",
    "data_set_new=pd.concat([data_1,data_2,data_3,data_4],ignore_index=True)"
   ]
  },
  {
   "cell_type": "code",
   "execution_count": null,
   "metadata": {
    "collapsed": true
   },
   "outputs": [],
   "source": [
    "# 筛选入模变量\n",
    "need_cols=['age','preaficoscorev5','zxaccountcnt','bidnormalscoreexp3v2','jiedaiscore']\n",
    "df_x=data_set_new[need_cols]\n",
    "# 缺失值填充\n",
    "df_x=df_x.fillna(0)"
   ]
  },
  {
   "cell_type": "code",
   "execution_count": null,
   "metadata": {
    "collapsed": false
   },
   "outputs": [],
   "source": [
    "# 数据归一化\n",
    "model_data_x=df_x.apply(lambda x: (x - np.min(x)) / (np.max(x) - np.min(x)))   \n",
    "# 筛选label\n",
    "model_data_y=data_set_new['label']"
   ]
  },
  {
   "cell_type": "code",
   "execution_count": null,
   "metadata": {
    "collapsed": false
   },
   "outputs": [],
   "source": [
    "# 合并数据集.axis=1表示横向合并数据\n",
    "model_data=pd.concat([model_data_x,model_data_y],axis=1)"
   ]
  },
  {
   "cell_type": "code",
   "execution_count": null,
   "metadata": {
    "collapsed": false
   },
   "outputs": [],
   "source": [
    "# 拆分训练集和测试集\n",
    "X_train, X_test, y_train, y_test = train_test_split(model_data_x, model_data_y, test_size=0.3, random_state=0)\n",
    "print('数据集样本数：{}，\\n 训练集样本数：{}，\\n 测试集样本数：{}'.format(len(model_data_x), len(X_train), len(X_test)))"
   ]
  },
  {
   "cell_type": "markdown",
   "metadata": {},
   "source": [
    "## 模型建立及选择"
   ]
  },
  {
   "cell_type": "code",
   "execution_count": null,
   "metadata": {
    "collapsed": true
   },
   "outputs": [],
   "source": [
    "# 执行本地Python脚本\n",
    "%load train_model.py"
   ]
  },
  {
   "cell_type": "code",
   "execution_count": null,
   "metadata": {
    "collapsed": false
   },
   "outputs": [],
   "source": [
    "# 模型比较\n",
    "model_name_param_dict = {'kNN':     [5, 10, 15],\n",
    "                         'LR':      [0.01, 1, 100],\n",
    "                         'SVM':     [0.01, 1, 100],}\n",
    "\n",
    "results_df = pd.DataFrame(columns=['Accuracy (%)', 'Time (s)'],index=list(model_name_param_dict.keys()))\n",
    "\n",
    "results_df.index.name = 'Model'\n",
    "for model_name, param_range in model_name_param_dict.items():\n",
    "        _, best_acc, mean_duration = train_model(X_train, y_train, X_test, y_test,param_range, model_name)\n",
    "        results_df.loc[model_name, 'Accuracy (%)'] = best_acc * 100\n",
    "        results_df.loc[model_name, 'Time (s)'] = mean_duration\n"
   ]
  },
  {
   "cell_type": "code",
   "execution_count": null,
   "metadata": {
    "collapsed": false
   },
   "outputs": [],
   "source": [
    "results_df"
   ]
  },
  {
   "cell_type": "markdown",
   "metadata": {},
   "source": [
    "## kNN"
   ]
  },
  {
   "cell_type": "code",
   "execution_count": null,
   "metadata": {
    "collapsed": false
   },
   "outputs": [],
   "source": [
    "# 筛选最优的K值\n",
    "k_range = range(1, 20)\n",
    "acc_scores = []\n",
    "\n",
    "for k in k_range:\n",
    "    knn = KNeighborsClassifier(n_neighbors=k)\n",
    "    knn.fit(X_train, y_train)\n",
    "    acc_scores.append(knn.score(X_test, y_test))\n",
    "\n",
    "# 建立模型\n",
    "knn = KNeighborsClassifier(n_neighbors=3)\n",
    "# 训练模型\n",
    "knn.fit(X_train, y_train)\n",
    "# 测试模型/预测\n",
    "y_pred = knn.predict(X_test)\n",
    "\n",
    "# 概率预测输出每个样本属于某一类的概率\n",
    "# 输出的结果是array。其中p[i][j] 是通过概率 kNN 判断 X[i] 属于第 j 类的概率\n",
    "y_prob=knn.predict_proba(X_test)\n",
    "\n",
    "# 两种计算精度的方法\n",
    "acc = accuracy_score(y_test, y_pred)\n",
    "\n",
    "print('acc_ratio:', acc)"
   ]
  },
  {
   "cell_type": "code",
   "execution_count": null,
   "metadata": {
    "collapsed": false
   },
   "outputs": [],
   "source": [
    "# 忽略警告信息\n",
    "import warnings\n",
    "warnings.filterwarnings(\"ignore\")\n",
    "\n",
    "result_data=X_test\n",
    "result_data['y_test']=y_test\n",
    "result_data['y_pred']=y_pred\n",
    "result_data.reset_index(drop=True).head(100)"
   ]
  },
  {
   "cell_type": "markdown",
   "metadata": {},
   "source": [
    "# 结论\n",
    "\n",
    "* 超小额用户"
   ]
  }
 ],
 "metadata": {
  "kernelspec": {
   "display_name": "Python 2",
   "language": "python",
   "name": "python2"
  },
  "language_info": {
   "codemirror_mode": {
    "name": "ipython",
    "version": 2
   },
   "file_extension": ".py",
   "mimetype": "text/x-python",
   "name": "python",
   "nbconvert_exporter": "python",
   "pygments_lexer": "ipython2",
   "version": "2.7.13"
  },
  "toc": {
   "nav_menu": {},
   "number_sections": true,
   "sideBar": true,
   "skip_h1_title": false,
   "title_cell": "Table of Contents",
   "title_sidebar": "超小额用户用信及逾期分析",
   "toc_cell": false,
   "toc_position": {
    "height": "calc(100% - 180px)",
    "left": "10px",
    "top": "150px",
    "width": "295px"
   },
   "toc_section_display": true,
   "toc_window_display": false
  }
 },
 "nbformat": 4,
 "nbformat_minor": 2
}
