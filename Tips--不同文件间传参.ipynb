{
 "cells": [
  {
   "cell_type": "markdown",
   "metadata": {},
   "source": [
    "## 不同文件[传参](http://ipython.readthedocs.io/en/stable/config/extensions/storemagic.html)"
   ]
  },
  {
   "cell_type": "markdown",
   "metadata": {},
   "source": [
    "### 初始化变量"
   ]
  },
  {
   "cell_type": "code",
   "execution_count": 11,
   "metadata": {
    "collapsed": false
   },
   "outputs": [],
   "source": [
    "str_1=['m','n','p']\n",
    "b=range(1,10)\n",
    "a=[1,2,3,4,5]\n",
    "c='hello python'"
   ]
  },
  {
   "cell_type": "markdown",
   "metadata": {},
   "source": [
    "### 存储变量：%store\n",
    "\n",
    "* %store：Stores variables, aliases and macros in IPython’s database."
   ]
  },
  {
   "cell_type": "code",
   "execution_count": 12,
   "metadata": {
    "collapsed": false
   },
   "outputs": [
    {
     "name": "stdout",
     "output_type": "stream",
     "text": [
      "Stored 'str_1' (list)\n",
      "Writing 'a' (list) to file 'a.txt'.\n",
      "Stored 'b' (list)\n",
      "Stored 'c' (str)\n"
     ]
    }
   ],
   "source": [
    "# a变量写入本地txt文件，其他变量写入storage\n",
    "# 写入本地的文件不能直接引入\n",
    "%store str_1 \n",
    "%store a > a.txt\n",
    "%store b\n",
    "%store c "
   ]
  },
  {
   "cell_type": "code",
   "execution_count": 19,
   "metadata": {
    "collapsed": false
   },
   "outputs": [],
   "source": [
    "exit"
   ]
  },
  {
   "cell_type": "markdown",
   "metadata": {},
   "source": [
    "* (IPython session is closed and started again...)"
   ]
  },
  {
   "cell_type": "code",
   "execution_count": 1,
   "metadata": {
    "collapsed": false
   },
   "outputs": [
    {
     "ename": "NameError",
     "evalue": "name 'str_1' is not defined",
     "output_type": "error",
     "traceback": [
      "\u001b[0;31m\u001b[0m",
      "\u001b[0;31mNameError\u001b[0mTraceback (most recent call last)",
      "\u001b[0;32m<ipython-input-1-460399d75172>\u001b[0m in \u001b[0;36m<module>\u001b[0;34m()\u001b[0m\n\u001b[1;32m      1\u001b[0m \u001b[1;31m# 重启窗口后，直接引用变量，报错NameError\u001b[0m\u001b[1;33m\u001b[0m\u001b[1;33m\u001b[0m\u001b[0m\n\u001b[0;32m----> 2\u001b[0;31m \u001b[1;32mprint\u001b[0m \u001b[0mstr_1\u001b[0m\u001b[1;33m\u001b[0m\u001b[0m\n\u001b[0m\u001b[1;32m      3\u001b[0m \u001b[1;32mprint\u001b[0m \u001b[0mb\u001b[0m\u001b[1;33m\u001b[0m\u001b[0m\n",
      "\u001b[0;31mNameError\u001b[0m: name 'str_1' is not defined"
     ]
    }
   ],
   "source": [
    "# 重启窗口后，直接引用变量，报错NameError\n",
    "print str_1\n",
    "print b"
   ]
  },
  {
   "cell_type": "markdown",
   "metadata": {},
   "source": [
    "### 查看储存变量列表"
   ]
  },
  {
   "cell_type": "code",
   "execution_count": 2,
   "metadata": {
    "collapsed": false
   },
   "outputs": [
    {
     "name": "stdout",
     "output_type": "stream",
     "text": [
      "Stored variables and their in-db values:\n",
      "a             -> [1, 2, 3, 4, 5]\n",
      "b             -> [1, 2, 3, 4, 5, 6, 7, 8, 9]\n",
      "c             -> 'hello python'\n"
     ]
    }
   ],
   "source": [
    "%store"
   ]
  },
  {
   "cell_type": "markdown",
   "metadata": {},
   "source": [
    "### 导入指定变量"
   ]
  },
  {
   "cell_type": "code",
   "execution_count": 7,
   "metadata": {
    "collapsed": false
   },
   "outputs": [],
   "source": [
    "# 从储存列表中只导入str_1变量，如果已经有str_1变量，则会覆盖现有str_1变量值\n",
    "# %store -r str_1\n",
    "%store -r a"
   ]
  },
  {
   "cell_type": "markdown",
   "metadata": {},
   "source": [
    "* %store -r ：refresh all vals from stroe（overwrite current vals）"
   ]
  },
  {
   "cell_type": "code",
   "execution_count": 9,
   "metadata": {
    "collapsed": false
   },
   "outputs": [
    {
     "name": "stdout",
     "output_type": "stream",
     "text": [
      "[1, 2, 3, 4, 5]\n"
     ]
    }
   ],
   "source": [
    "# 验证一下：从储存列表中只导入str_1变量，其他变量，a和b暂时不导入\n",
    "# print str_1\n",
    "print a"
   ]
  },
  {
   "cell_type": "markdown",
   "metadata": {},
   "source": [
    "###  删除指定变量"
   ]
  },
  {
   "cell_type": "code",
   "execution_count": 5,
   "metadata": {
    "collapsed": false
   },
   "outputs": [],
   "source": [
    "# 删除变量名b及其对应的值\n",
    "%store -d b"
   ]
  },
  {
   "cell_type": "markdown",
   "metadata": {},
   "source": [
    "* %store -z : Remove all vals from storage"
   ]
  },
  {
   "cell_type": "code",
   "execution_count": 6,
   "metadata": {
    "collapsed": false
   },
   "outputs": [
    {
     "name": "stdout",
     "output_type": "stream",
     "text": [
      "Stored variables and their in-db values:\n",
      "a                 -> [1, 2, 3, 4, 5]\n",
      "c                 -> 'hello python'\n",
      "str_1             -> ['m', 'n', 'p']\n"
     ]
    }
   ],
   "source": [
    "%store"
   ]
  },
  {
   "cell_type": "markdown",
   "metadata": {},
   "source": [
    "### 删除storage上的变量\n",
    "\n",
    "* 已经导入的变量不受影响，只是删除了storage上的变量"
   ]
  },
  {
   "cell_type": "code",
   "execution_count": 11,
   "metadata": {
    "collapsed": false
   },
   "outputs": [],
   "source": [
    "%store -z"
   ]
  },
  {
   "cell_type": "code",
   "execution_count": 15,
   "metadata": {
    "collapsed": false
   },
   "outputs": [
    {
     "name": "stdout",
     "output_type": "stream",
     "text": [
      "Stored variables and their in-db values:\n"
     ]
    }
   ],
   "source": [
    "# 查看storage上的变量列表。%store -z清空后，列表应该为空\n",
    "%store"
   ]
  },
  {
   "cell_type": "code",
   "execution_count": 16,
   "metadata": {
    "collapsed": false
   },
   "outputs": [
    {
     "name": "stdout",
     "output_type": "stream",
     "text": [
      "['m', 'n', 'p']\n",
      "[1, 2, 3, 4, 5]\n"
     ]
    }
   ],
   "source": [
    "# 虽然清空了列表，但是并不影响已经导入的变量\n",
    "print str_1\n",
    "print a"
   ]
  },
  {
   "cell_type": "markdown",
   "metadata": {},
   "source": [
    "## [Usage](http://ipython.readthedocs.io/en/stable/config/extensions/storemagic.html)"
   ]
  },
  {
   "cell_type": "markdown",
   "metadata": {},
   "source": [
    "* %store - show list of vals and their current\n",
    "* %store spam - show the current value of the variable spam\n",
    "* %store -d spam - remove the variable and its value from storage\n",
    "* %store -z - remove all vals from storage\n",
    "* %store -r - refresh all vals from storage(overwrite current vals)\n",
    "* %stroe -r spam bar - refresh specified vals from store(delete current vals)\n",
    "* %store foo > a.txt - store value of foo to new file a.txt\n",
    "* %store foo >> a.txt - append value of foo to file a.txt"
   ]
  }
 ],
 "metadata": {
  "kernelspec": {
   "display_name": "Python 2",
   "language": "python",
   "name": "python2"
  },
  "toc": {
   "nav_menu": {},
   "number_sections": true,
   "sideBar": true,
   "skip_h1_title": false,
   "title_cell": "Table of Contents",
   "title_sidebar": "Contents",
   "toc_cell": false,
   "toc_position": {},
   "toc_section_display": true,
   "toc_window_display": true
  }
 },
 "nbformat": 4,
 "nbformat_minor": 2
}
