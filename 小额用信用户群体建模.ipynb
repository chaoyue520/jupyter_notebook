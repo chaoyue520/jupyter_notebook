{
 "cells": [
  {
   "cell_type": "markdown",
   "metadata": {},
   "source": [
    "# 超小额用户行为特征抽象建模\n",
    "\n",
    "> 基于行为分析V2.0结论，对超小额群体进行建模分析，找出逾期用户特征"
   ]
  },
  {
   "cell_type": "markdown",
   "metadata": {},
   "source": [
    "# 准备阶段"
   ]
  },
  {
   "cell_type": "markdown",
   "metadata": {},
   "source": [
    "## 加载库"
   ]
  },
  {
   "cell_type": "code",
   "execution_count": 413,
   "metadata": {
    "collapsed": true
   },
   "outputs": [],
   "source": [
    "import numpy as np\n",
    "import pandas as pd\n",
    "import matplotlib.pyplot as plt\n",
    "import matplotlib.cm as cm\n",
    "import seaborn as sns\n",
    "\n",
    "from sklearn import preprocessing\n",
    "from scipy.stats import skew, boxcox\n",
    "import os\n",
    "\n",
    "from pyecharts import Bar\n",
    "import mpld3\n",
    "from mpld3 import plugins\n",
    "\n",
    "%matplotlib inline\n",
    "\n",
    "from scipy import stats\n",
    "import statsmodels.formula.api as smf\n",
    "import statsmodels.api as sm\n",
    "\n",
    "from sklearn.preprocessing import MinMaxScaler\n",
    "from sklearn.model_selection import train_test_split\n",
    "from sklearn.linear_model import LogisticRegression\n",
    "\n",
    "import warnings\n",
    "warnings.filterwarnings(\"ignore\")"
   ]
  },
  {
   "cell_type": "code",
   "execution_count": 414,
   "metadata": {
    "collapsed": true
   },
   "outputs": [],
   "source": [
    "plt.rcParams['font.sans-serif'] = ['SimHei']  # 指定默认字体\n",
    "plt.rcParams['axes.unicode_minus'] = False  # 解决保存图像是负号'-'显示为方块的问题"
   ]
  },
  {
   "cell_type": "markdown",
   "metadata": {},
   "source": [
    "## 导入数据"
   ]
  },
  {
   "cell_type": "code",
   "execution_count": 489,
   "metadata": {
    "collapsed": true
   },
   "outputs": [],
   "source": [
    "%store -r petty_data_set"
   ]
  },
  {
   "cell_type": "code",
   "execution_count": 562,
   "metadata": {
    "collapsed": false
   },
   "outputs": [],
   "source": [
    "data_set_v0=petty_data_set[petty_data_set.action==1]"
   ]
  },
  {
   "cell_type": "code",
   "execution_count": null,
   "metadata": {
    "collapsed": false
   },
   "outputs": [],
   "source": [
    "# 数据集扩充和抽样\n",
    "data_01=pd.concat([data_set_v0[data_set_v0.odu_bid==1]]*10)\n",
    "data_02=pd.concat([data_set_v0[data_set_v0.odu_bid==0]]*3)\n",
    "\n",
    "\n",
    "# 合并数据\n",
    "data_set_v1=pd.concat([data_01,data_02],ignore_index=True)\n",
    "data_set_v1['odu_bid'].value_counts()"
   ]
  },
  {
   "cell_type": "markdown",
   "metadata": {},
   "source": [
    "## NULL值处理"
   ]
  },
  {
   "cell_type": "code",
   "execution_count": null,
   "metadata": {
    "collapsed": true
   },
   "outputs": [],
   "source": [
    "# 先对NUll值\n",
    "data_set=data_set_v1.fillna(0)"
   ]
  },
  {
   "cell_type": "markdown",
   "metadata": {},
   "source": [
    "# 分箱的意义"
   ]
  },
  {
   "cell_type": "code",
   "execution_count": 681,
   "metadata": {
    "collapsed": false
   },
   "outputs": [
    {
     "data": {
      "text/plain": [
       "<matplotlib.axes._subplots.AxesSubplot at 0x37a270f0>"
      ]
     },
     "execution_count": 681,
     "metadata": {},
     "output_type": "execute_result"
    },
    {
     "data": {
      "image/png": "[encoded data removed]",
      "text/plain": [
       "<matplotlib.figure.Figure at 0x3725a3c8>"
      ]
     },
     "metadata": {},
     "output_type": "display_data"
    }
   ],
   "source": [
    "# dataframe画图注意事项\n",
    "fig, axes = plt.subplots(nrows=2, ncols=1)\n",
    "\n",
    "var = data_set.groupby(['age_batch','odu_bid']).size()\n",
    "var.unstack().plot(kind='barh',stacked=True,grid=True,ax=axes[0],figsize=(10,10))\n",
    "\n",
    "\n",
    "var = data_set.groupby(['age','odu_bid']).bid.count()\n",
    "var.unstack().plot(kind='bar',stacked=True,grid=True,ax=axes[1],figsize=(10,10))\n"
   ]
  },
  {
   "cell_type": "markdown",
   "metadata": {},
   "source": [
    "* 通过分箱处理，分布更加集中"
   ]
  },
  {
   "cell_type": "markdown",
   "metadata": {},
   "source": [
    "# 连续变量分箱"
   ]
  },
  {
   "cell_type": "markdown",
   "metadata": {},
   "source": [
    "> **连续变量分箱步骤**\n",
    "\n",
    "  * 首先筛选出需要分箱的连续变量\n",
    "  * 计算变量在不同分箱下的iv值，确定每个需要分箱变量最终的分箱数\n",
    "  * 将已分箱的变量按照分箱重新赋值\n",
    "  * 删除分箱的变量，保留分箱变量变换后的变量，统一加上 _batch 后缀 \n",
    "\n",
    "--------------------\n",
    "\n",
    "> **WOE的基本特点**\n",
    "\n",
    "  * 当前分组中，逾期的比例越大，WOE值越大；且WOE描述了变量当前分组对判断个体是否会逾期所起到的影响方向和大小。\n",
    "  * 当前分组WOE的正负，由当前分组响应和未响应的比例与样本整体响应和未响应的比例的大小关系决定\n",
    "   * 当前分组的比例大于整体比例时，WOE为正；即变量当前取值对判断个体是否会逾期起到的正向的影响\n",
    "   * 当前分组的比例小于样本整体比例时，WOE为负；即变量当前取值对判断个体是否会逾期起到的负向的影响\n",
    "   * 当前分组的比例和整体比例相等时，WOE为0\n",
    "  * WOE的取值范围是全体实数。\n",
    "  \n",
    "  \n",
    "--------------------\n",
    "> **IV的基本特点**\n",
    "\n",
    "  * 对于变量的一个分组，这个分组的逾期和未逾期的比例与样本整体逾期和未逾期的比例相差越大，IV值越大，否则，IV值越小；\n",
    "  * 极端情况下，当前分组的逾期和未逾期应的比例和样本整体的逾期和未逾期的比例相等时，IV值为0；\n",
    "  * IV值的取值范围是[0,+∞)，且，当当前分组中只包含逾期用户或者未逾期用户时，IV = +∞。\n",
    "\n",
    "--------------------\n",
    "\n",
    "> **IV 值的选择**\n",
    "\n",
    "  * < 0.02 ： 无预测能力\n",
    "  * 0.02 ~ 0.1 ： 较弱的预测能力\n",
    "  * 0.1 ~ 0.3 : 预测能力一般\n",
    "  * 0.3 ~ 0.5 : 较强的预测能力\n",
    "  * \\> 0.5 : 可疑 \n",
    "  * IV无论等于 $+∞$ 还是 $-∞$，都是没有意义的。"
   ]
  },
  {
   "cell_type": "code",
   "execution_count": 492,
   "metadata": {
    "collapsed": true
   },
   "outputs": [],
   "source": [
    "# Y标签\n",
    "Y_col=data_set['odu_bid']"
   ]
  },
  {
   "cell_type": "code",
   "execution_count": null,
   "metadata": {
    "collapsed": false
   },
   "outputs": [],
   "source": [
    "#3.1、数据分箱后批量替换原始变量\n",
    "a=[18,22,25,30,35]\n",
    "col_vars=['age']\n",
    "for col in col_vars:\n",
    "    for i in range(len(np.unique(a))):\n",
    "        if i <= max(range(len(np.unique(a))-1)):\n",
    "            data_set.loc[(data_set[col]>= a[i]) & (data_set[col]<=a[i+1]),col+'_batch']=col+'_'+str(i)\n",
    "        elif i==max(range(len(np.unique(a)))):\n",
    "            data_set.loc[data_set[col]>=a[i],col+'_batch']=col+'_'+str(i)"
   ]
  },
  {
   "cell_type": "markdown",
   "metadata": {},
   "source": [
    "## 等分位数"
   ]
  },
  {
   "cell_type": "code",
   "execution_count": 493,
   "metadata": {
    "collapsed": false
   },
   "outputs": [],
   "source": [
    "def calciv_equal_percent(X_col,Y_col,k,point):\n",
    "    a=[0 for i in range(k)]\n",
    "    for i in range(k):\n",
    "        a[i]=stats.scoreatpercentile(X_col, i*point) # point <= 100/(k-1) \n",
    "    woe=np.zeros(np.unique(a).shape)\n",
    "    iv=np.zeros(np.unique(a).shape)\n",
    "    # n_1表示逾期：逾期人数合计\n",
    "    n_1 = np.sum(Y_col==1)\n",
    "    n_1_group = np.zeros(np.unique(a).shape)\n",
    "    # n_0表示未逾期：未逾期人数合计    \n",
    "    n_0 = np.sum(Y_col==0)\n",
    "    n_0_group = np.zeros(np.unique(a).shape)\n",
    "    for i in range(len(np.unique(a))):\n",
    "        if i < max(range(len(np.unique(a))-1)):\n",
    "            n_1_group[i] = Y_col[(X_col >= a[i]) & (X_col < a[i+1]) & (Y_col == 1)].count()\n",
    "            n_0_group[i] = Y_col[(X_col >= a[i]) & (X_col < a[i+1]) & (Y_col == 0)].count()\n",
    "            woe[i] = np.log(((np.sum(n_1_group[i])/n_1)/(np.sum(n_0_group[i])/n_0)))\n",
    "            iv[i] = (np.sum(n_1_group[i])/n_1-np.sum(n_0_group[i])/n_0)*np.log(((np.sum(n_1_group[i])/n_1)/(np.sum(n_0_group[i])/n_0)))\n",
    "        elif i==len(np.unique(a))-1:\n",
    "            n_1_group[i] = Y_col[(X_col >= a[i]) & (Y_col == 1)].count()\n",
    "            n_0_group[i] = Y_col[(X_col >= a[i]) & (Y_col == 0)].count()\n",
    "            woe[i] = np.log(((np.sum(n_1_group[i])/n_1)/(np.sum(n_0_group[i])/n_0)))\n",
    "            iv[i] = (np.sum(n_1_group[i])/n_1-np.sum(n_0_group[i])/n_0)*np.log(((np.sum(n_1_group[i])/n_1)/(np.sum(n_0_group[i])/n_0)))\n",
    "    IV=sum(iv)\n",
    "    return  IV,woe"
   ]
  },
  {
   "cell_type": "markdown",
   "metadata": {},
   "source": [
    "### 单变量IV值和WOE值"
   ]
  },
  {
   "cell_type": "code",
   "execution_count": 494,
   "metadata": {
    "collapsed": true
   },
   "outputs": [],
   "source": [
    "#批量筛选需要手动设置cutpoint的变量\n",
    "# zxhouseloancnt\n",
    "# ,'zxaccountcnt','bidnormalscoreexp3v2','prcidnormalscoreexp3v2','phonenormalscoreexp3v2'\n",
    "col_vars=['jiedaiscore']\n",
    "\n",
    "#批量计算iv值，k=5,point=10\n",
    "k=5\n",
    "point=10\n",
    "col_iv_value=[]\n",
    "col_woe_value=[]\n",
    "for col in col_vars:\n",
    "    X_col=data_set[col]\n",
    "    col_iv_value.append(round(calciv_equal_percent(data_set[col],Y_col,k,point)[0],3))  \n",
    "    col_woe_value.append(calciv_equal_percent(data_set[col],Y_col,k,point)[1])\n",
    "\n",
    "\n",
    "# calciv_equal_percent(data_set['jiedaiscore'],Y_col,k,point)"
   ]
  },
  {
   "cell_type": "code",
   "execution_count": null,
   "metadata": {
    "collapsed": false
   },
   "outputs": [],
   "source": [
    "# 查看分箱后的变量IV值\n",
    "num_iv_dict=dict(zip(col_iv_value,col_woe_value))\n",
    "num_iv_dict"
   ]
  },
  {
   "cell_type": "markdown",
   "metadata": {},
   "source": [
    "### 分箱变量衍生"
   ]
  },
  {
   "cell_type": "markdown",
   "metadata": {},
   "source": [
    "#### 直接用无量纲标识分箱结果"
   ]
  },
  {
   "cell_type": "code",
   "execution_count": 454,
   "metadata": {
    "collapsed": false
   },
   "outputs": [],
   "source": [
    "a=[0]*k  # k=5\n",
    "for col in col_vars:\n",
    "    for i in range(k):   # k=5\n",
    "        a[i]=stats.scoreatpercentile(data_set[col], point*i)  # point =10\n",
    "    for i in range(len(np.unique(a))):\n",
    "        if i <= max(range(len(np.unique(a))-1)):\n",
    "             data_set.loc[(data_set[col]>= a[i]) & (data_set[col]<=a[i+1]),col+'_batch']=col+'_'+str(i)\n",
    "        elif i==max(range(len(np.unique(a)))):\n",
    "             data_set.loc[data_set[col]>=a[i],col+'_batch']=col+'_'+str(i)"
   ]
  },
  {
   "cell_type": "markdown",
   "metadata": {},
   "source": [
    "#### 用分箱后的woe值衍生"
   ]
  },
  {
   "cell_type": "code",
   "execution_count": 495,
   "metadata": {
    "collapsed": true
   },
   "outputs": [],
   "source": [
    "a=[0]*k  # k=5\n",
    "for col in col_vars:\n",
    "    for i in range(k):   # k=5\n",
    "        a[i]=stats.scoreatpercentile(data_set[col], point*i)  # point =10\n",
    "    for i in range(len(np.unique(a))):\n",
    "        if i <= max(range(len(np.unique(a))-1)):\n",
    "             data_set.loc[(data_set[col]>= a[i]) & (data_set[col]<=a[i+1]),col+'_woe']=calciv_equal_percent(data_set[col],Y_col,k,point)[1][i]\n",
    "        elif i==max(range(len(np.unique(a)))):\n",
    "             data_set.loc[data_set[col]>=a[i],col+'_woe']=calciv_equal_percent(data_set[col],Y_col,k,point)[1][i]"
   ]
  },
  {
   "cell_type": "markdown",
   "metadata": {},
   "source": [
    "## 手动切分"
   ]
  },
  {
   "cell_type": "code",
   "execution_count": 499,
   "metadata": {
    "collapsed": false
   },
   "outputs": [],
   "source": [
    "# 定义手动切分区间\n",
    "def calciv_set_cutpoints(X_col,Y_col):\n",
    "    woe=np.zeros(np.unique(a).shape)\n",
    "    iv=np.zeros(np.unique(a).shape)\n",
    "    n_0 = np.sum(Y_col==0)\n",
    "    n_1 = np.sum(Y_col==1)\n",
    "    n_0_group = np.zeros(np.unique(a).shape)\n",
    "    n_1_group = np.zeros(np.unique(a).shape)\n",
    "    np.unique(a).sort()\n",
    "    for i in range(len(np.unique(a))):\n",
    "        if i < max(range(len(np.unique(a))-1)):\n",
    "            n_0_group[i] = Y_col[(X_col >= a[i]) & (X_col < a[i+1]) & (Y_col == 0)].count()\n",
    "            n_1_group[i] = Y_col[(X_col >= a[i]) & (X_col < a[i+1]) & (Y_col == 1)].count()\n",
    "            woe[i]=np.log(((np.sum(n_1_group[i])/n_1)/(np.sum(n_0_group[i])/n_0)))\n",
    "            iv[i] = (np.sum(n_1_group[i])/n_1-np.sum(n_0_group[i])/n_0)*np.log(((np.sum(n_1_group[i])/n_1)/(np.sum(n_0_group[i])/n_0)))\n",
    "        elif i==len(np.unique(a))-1:\n",
    "            n_0_group[i] = Y_col[(X_col >= a[i]) & (Y_col == 0)].count()\n",
    "            n_1_group[i] = Y_col[(X_col >= a[i]) & (Y_col == 1)].count()\n",
    "            woe[i]=np.log(((np.sum(n_1_group[i])/n_1)/(np.sum(n_0_group[i])/n_0)))\n",
    "            iv[i] = (np.sum(n_1_group[i])/n_1-np.sum(n_0_group[i])/n_0)*np.log(((np.sum(n_1_group[i])/n_1)/(np.sum(n_0_group[i])/n_0)))\n",
    "    IV=sum(iv)\n",
    "    return  IV,woe"
   ]
  },
  {
   "cell_type": "code",
   "execution_count": null,
   "metadata": {
    "collapsed": false
   },
   "outputs": [],
   "source": [
    "# 需要手动分箱的变量和切分区间\n",
    "a=[10,15,20,25,30]\n",
    "col_vars=['phonenormalscoreexp3v2']\n",
    "\n",
    "# 计算IV值\n",
    "col_iv_value=[]\n",
    "for col in col_vars:\n",
    "    X_col=data_set[col]\n",
    "    col_iv_value.append(round(calciv_set_cutpoints(data_set[col],Y_col)[0],2))\n",
    "\n",
    "print col_iv_value\n",
    "print calciv_set_cutpoints(data_set[col],Y_col)\n",
    "\n",
    "\n",
    "#3.1、数据分箱后批量替换原始变量\n",
    "for col in col_vars:\n",
    "    a=[10,15,20,25,30]\n",
    "    for i in range(len(np.unique(a))):\n",
    "        if i <= max(range(len(np.unique(a))-1)):\n",
    "            data_set.loc[(data_set[col]>= a[i]) & (data_set[col]<=a[i+1]),col+'_woe']=calciv_set_cutpoints(data_set[col],Y_col)[1][i]\n",
    "        elif i==max(range(len(np.unique(a)))):\n",
    "            data_set.loc[data_set[col]>=a[i],col+'_woe']=calciv_set_cutpoints(data_set[col],Y_col)[1][i]"
   ]
  },
  {
   "cell_type": "markdown",
   "metadata": {},
   "source": [
    "### age"
   ]
  },
  {
   "cell_type": "markdown",
   "metadata": {},
   "source": [
    "#### 单变量IV值"
   ]
  },
  {
   "cell_type": "code",
   "execution_count": 507,
   "metadata": {
    "collapsed": false
   },
   "outputs": [],
   "source": [
    "# 需要手动分箱的变量和切分区间\n",
    "a=[18,22,25,30,35]\n",
    "col_vars=['age']\n",
    "\n",
    "# 计算IV值\n",
    "col_iv_value=[]\n",
    "col_woe_value=[]\n",
    "for col in col_vars:\n",
    "    X_col=data_set[col]\n",
    "    col_iv_value.append(round(calciv_set_cutpoints(data_set[col],Y_col)[0],2))\n",
    "    col_woe_value.append(calciv_set_cutpoints(data_set[col],Y_col)[1])"
   ]
  },
  {
   "cell_type": "markdown",
   "metadata": {},
   "source": [
    "#### 用分箱后的woe值衍生"
   ]
  },
  {
   "cell_type": "code",
   "execution_count": 510,
   "metadata": {
    "collapsed": false
   },
   "outputs": [],
   "source": [
    "#3.1、数据分箱后批量替换原始变量\n",
    "for col in col_vars:\n",
    "    for i in range(len(np.unique(a))):\n",
    "        if i <= max(range(len(np.unique(a))-1)):\n",
    "            data_set.loc[(data_set[col]>= a[i]) & (data_set[col]<=a[i+1]),col+'_woe']=calciv_set_cutpoints(data_set[col],Y_col)[1][i]\n",
    "        elif i==max(range(len(np.unique(a)))):\n",
    "            data_set.loc[data_set[col]>=a[i],col+'_woe']=calciv_set_cutpoints(data_set[col],Y_col)[1][i]"
   ]
  },
  {
   "cell_type": "markdown",
   "metadata": {},
   "source": [
    "### zxaccount"
   ]
  },
  {
   "cell_type": "markdown",
   "metadata": {},
   "source": [
    "#### 单变量IV值"
   ]
  },
  {
   "cell_type": "code",
   "execution_count": null,
   "metadata": {
    "collapsed": false
   },
   "outputs": [],
   "source": [
    "# 需要手动分箱的变量和切分区间\n",
    "a=[0,1,5]\n",
    "col_vars=['zxaccountcnt']\n",
    "\n",
    "# 计算IV值\n",
    "col_iv_value=[]\n",
    "col_woe_value=[]\n",
    "for col in col_vars:\n",
    "    X_col=data_set[col]\n",
    "    col_iv_value.append(round(calciv_set_cutpoints(data_set_test[col],Y_col)[0],2))\n",
    "    col_woe_value.append(calciv_set_cutpoints(data_set_test[col],Y_col)[1])\n",
    "\n",
    "# 查看分箱后的变量IV值\n",
    "num_iv_dict=dict(zip(col_iv_value,col_woe_value))\n",
    "num_iv_dict"
   ]
  },
  {
   "cell_type": "code",
   "execution_count": null,
   "metadata": {
    "collapsed": true
   },
   "outputs": [],
   "source": [
    "# 需要手动分箱的变量和切分区间\n",
    "a=[1,5]\n",
    "col_vars=['zxaccountcnt']\n",
    "\n",
    "# 计算IV值\n",
    "col_iv_value=[]\n",
    "col_woe_value=[]\n",
    "for col in col_vars:\n",
    "    X_col=data_set[col]\n",
    "    col_iv_value.append(round(calciv_set_cutpoints(data_set[col],Y_col)[0],2))\n",
    "    col_woe_value.append(calciv_set_cutpoints(data_set[col],Y_col)[1])\n",
    "\n",
    "# 查看分箱后的变量IV值\n",
    "num_iv_dict=dict(zip(col_iv_value,col_woe_value))\n",
    "num_iv_dict"
   ]
  },
  {
   "cell_type": "markdown",
   "metadata": {},
   "source": [
    "#### 用分箱后的woe值衍生"
   ]
  },
  {
   "cell_type": "code",
   "execution_count": 540,
   "metadata": {
    "collapsed": true
   },
   "outputs": [],
   "source": [
    "#3.1、数据分箱后批量替换原始变量\n",
    "for col in col_vars:\n",
    "    for i in range(len(np.unique(a))):\n",
    "        if i <= max(range(len(np.unique(a))-1)):\n",
    "            data_set.loc[(data_set[col]>= a[i]) & (data_set[col]<=a[i+1]),col+'_woe']=calciv_set_cutpoints(data_set[col],Y_col)[1][i]\n",
    "        elif i==max(range(len(np.unique(a)))):\n",
    "            data_set.loc[data_set[col]>=a[i],col+'_woe']=calciv_set_cutpoints(data_set[col],Y_col)[1][i]"
   ]
  },
  {
   "cell_type": "markdown",
   "metadata": {},
   "source": [
    "### mobiledate"
   ]
  },
  {
   "cell_type": "markdown",
   "metadata": {},
   "source": [
    "#### 单变量IV值"
   ]
  },
  {
   "cell_type": "code",
   "execution_count": null,
   "metadata": {
    "collapsed": false
   },
   "outputs": [],
   "source": [
    "# 需要手动分箱的变量和切分区间\n",
    "a=[10,20,30,40]\n",
    "col_vars=['mobileoperatorregdate']\n",
    "\n",
    "# 计算IV值\n",
    "col_iv_value=[]\n",
    "col_woe_value=[]\n",
    "for col in col_vars:\n",
    "    X_col=data_set[col]\n",
    "    col_iv_value.append(round(calciv_set_cutpoints(data_set[col],Y_col)[0],2))\n",
    "    col_woe_value.append(calciv_set_cutpoints(data_set[col],Y_col)[1])\n",
    "\n",
    "# 查看分箱后的变量IV值\n",
    "num_iv_dict=dict(zip(col_iv_value,col_woe_value))\n",
    "num_iv_dict"
   ]
  },
  {
   "cell_type": "markdown",
   "metadata": {},
   "source": [
    "#### 用分箱后的woe值衍生"
   ]
  },
  {
   "cell_type": "code",
   "execution_count": 538,
   "metadata": {
    "collapsed": true
   },
   "outputs": [],
   "source": [
    "#3.1、数据分箱后批量替换原始变量\n",
    "for col in col_vars:\n",
    "    for i in range(len(np.unique(a))):\n",
    "        if i <= max(range(len(np.unique(a))-1)):\n",
    "            data_set.loc[(data_set[col]>= a[i]) & (data_set[col]<=a[i+1]),col+'_woe']=calciv_set_cutpoints(data_set[col],Y_col)[1][i]\n",
    "        elif i==max(range(len(np.unique(a)))):\n",
    "            data_set.loc[data_set[col]>=a[i],col+'_woe']=calciv_set_cutpoints(data_set[col],Y_col)[1][i]"
   ]
  },
  {
   "cell_type": "markdown",
   "metadata": {},
   "source": [
    "### city_index"
   ]
  },
  {
   "cell_type": "markdown",
   "metadata": {},
   "source": [
    "#### 单变量IV值"
   ]
  },
  {
   "cell_type": "code",
   "execution_count": null,
   "metadata": {
    "collapsed": false
   },
   "outputs": [],
   "source": [
    "# 需要手动分箱的变量和切分区间\n",
    "a=[1,2,3,4,5]\n",
    "col_vars=['city_idx']\n",
    "\n",
    "# 计算IV值\n",
    "col_iv_value=[]\n",
    "col_woe_value=[]\n",
    "for col in col_vars:\n",
    "    X_col=data_set[col]\n",
    "    col_iv_value.append(round(calciv_set_cutpoints(data_set[col],Y_col)[0],2))\n",
    "    col_woe_value.append(calciv_set_cutpoints(data_set[col],Y_col)[1])\n",
    "    \n",
    "\n",
    "# 查看分箱后的变量IV值\n",
    "num_iv_dict=dict(zip(col_iv_value,col_woe_value))\n",
    "num_iv_dict"
   ]
  },
  {
   "cell_type": "markdown",
   "metadata": {},
   "source": [
    "#### 用分箱后的woe值衍生"
   ]
  },
  {
   "cell_type": "code",
   "execution_count": 276,
   "metadata": {
    "collapsed": true
   },
   "outputs": [],
   "source": [
    "#3.1、数据分箱后批量替换原始变量\n",
    "for col in col_vars:\n",
    "    for i in range(len(np.unique(a))):\n",
    "        if i <= max(range(len(np.unique(a))-1)):\n",
    "            data_set.loc[(data_set[col]>= a[i]) & (data_set[col]<=a[i+1]),col+'_woe']=calciv_set_cutpoints(data_set[col],Y_col)[1][i]\n",
    "        elif i==max(range(len(np.unique(a)))):\n",
    "            data_set.loc[data_set[col]>=a[i],col+'_woe']=calciv_set_cutpoints(data_set[col],Y_col)[1][i]"
   ]
  },
  {
   "cell_type": "markdown",
   "metadata": {},
   "source": [
    "### education"
   ]
  },
  {
   "cell_type": "markdown",
   "metadata": {},
   "source": [
    "#### 单变量IV值"
   ]
  },
  {
   "cell_type": "code",
   "execution_count": null,
   "metadata": {
    "collapsed": false
   },
   "outputs": [],
   "source": [
    "# 需要手动分箱的变量和切分区间\n",
    "a=[-1,1,2]\n",
    "col_vars=['education']\n",
    "\n",
    "# 计算IV值\n",
    "col_iv_value=[]\n",
    "col_woe_value=[]\n",
    "for col in col_vars:\n",
    "    X_col=data_set[col]\n",
    "    col_iv_value.append(round(calciv_set_cutpoints(data_set[col],Y_col)[0],4))\n",
    "    col_woe_value.append(calciv_set_cutpoints(data_set[col],Y_col)[1])\n",
    "\n",
    "# 查看分箱后的变量IV值\n",
    "num_iv_dict=dict(zip(col_iv_value,col_woe_value))\n",
    "num_iv_dict"
   ]
  },
  {
   "cell_type": "markdown",
   "metadata": {},
   "source": [
    "#### 用分箱后的woe值衍生"
   ]
  },
  {
   "cell_type": "code",
   "execution_count": 531,
   "metadata": {
    "collapsed": true
   },
   "outputs": [],
   "source": [
    "#3.1、数据分箱后批量替换原始变量\n",
    "for col in col_vars:\n",
    "    for i in range(len(np.unique(a))):\n",
    "        if i <= max(range(len(np.unique(a))-1)):\n",
    "            data_set.loc[(data_set[col]>= a[i]) & (data_set[col]<=a[i+1]),col+'_woe']=calciv_set_cutpoints(data_set[col],Y_col)[1][i]\n",
    "        elif i==max(range(len(np.unique(a)))):\n",
    "            data_set.loc[data_set[col]>=a[i],col+'_woe']=calciv_set_cutpoints(data_set[col],Y_col)[1][i]"
   ]
  },
  {
   "cell_type": "markdown",
   "metadata": {},
   "source": [
    "# 数值特征：标准化"
   ]
  },
  {
   "cell_type": "markdown",
   "metadata": {},
   "source": [
    "## 为什么标准化"
   ]
  },
  {
   "cell_type": "code",
   "execution_count": 251,
   "metadata": {
    "collapsed": false
   },
   "outputs": [
    {
     "data": {
      "text/plain": [
       "<matplotlib.axes._subplots.AxesSubplot at 0x10cd0710>"
      ]
     },
     "execution_count": 251,
     "metadata": {},
     "output_type": "execute_result"
    },
    {
     "data": {
      "image/png": "[encoded data removed]",
      "text/plain": [
       "<matplotlib.figure.Figure at 0x10cd0668>"
      ]
     },
     "metadata": {},
     "output_type": "display_data"
    }
   ],
   "source": [
    "# 筛选连续变量\n",
    "numeric_cols=['jiedaiscore','zxhouseloancnt','zxaccountcnt','bidnormalscoreexp3v2','prcidnormalscoreexp3v2','phonenormalscoreexp3v2','preaficoscorev5']\n",
    "num_data_subset = data_set_v1[numeric_cols]\n",
    "\n",
    "# 展示连续变量的盒子图\n",
    "plt.figure(figsize=(20,7))\n",
    "sns.boxplot(data=num_data_subset)"
   ]
  },
  {
   "cell_type": "code",
   "execution_count": 252,
   "metadata": {
    "collapsed": false
   },
   "outputs": [
    {
     "data": {
      "text/plain": [
       "<matplotlib.axes._subplots.AxesSubplot at 0x11d0b208>"
      ]
     },
     "execution_count": 252,
     "metadata": {},
     "output_type": "execute_result"
    },
    {
     "data": {
      "image/png": "[encoded data removed]",
      "text/plain": [
       "<matplotlib.figure.Figure at 0x1172d278>"
      ]
     },
     "metadata": {},
     "output_type": "display_data"
    }
   ],
   "source": [
    "# 筛选连续变量\n",
    "box_vars=['jiedaiscore','zxhouseloancnt','zxaccountcnt','bidnormalscoreexp3v2','prcidnormalscoreexp3v2','phonenormalscoreexp3v2']\n",
    "box_data_subset = data_set_v1[box_vars]\n",
    "\n",
    "# 展示连续变量的盒子图\n",
    "plt.figure(figsize=(20,7))\n",
    "sns.boxplot(data=box_data_subset)"
   ]
  },
  {
   "cell_type": "markdown",
   "metadata": {},
   "source": [
    "**数据解读：**\n",
    "\n",
    "  * 从连续变量的盒子图可以看出，数据不在一个量级上，需要做归一化处理，特别是preaficoscorev5特征，整体偏高"
   ]
  },
  {
   "cell_type": "markdown",
   "metadata": {},
   "source": [
    "## [如何标准化](http://scikit-learn.org/stable/modules/preprocessing.html)"
   ]
  },
  {
   "cell_type": "code",
   "execution_count": 262,
   "metadata": {
    "collapsed": false
   },
   "outputs": [],
   "source": [
    "# 定义归一化尺度\n",
    "min_max_scaler = MinMaxScaler()\n",
    "# 需要归一化的列\n",
    "feat_cols=['jiedaiscore','zxhouseloancnt','zxaccountcnt','bidnormalscoreexp3v2','prcidnormalscoreexp3v2','phonenormalscoreexp3v2','preaficoscorev5']\n",
    "# feat_cols=['jiedaiscore']\n",
    "# 数据特征\n",
    "X_train = train_data[feat_cols].values\n",
    "X_test = test_data[feat_cols].values\n",
    "# 归一化后的数据特征\n",
    "scaled_X_train = min_max_scaler.fit_transform(X_train)\n",
    "\n",
    "#将相同的缩放应用到测试集数据中\n",
    "scaled_X_test = min_max_scaler.transform(X_test)\n",
    "\n",
    "# 筛选表前列\n",
    "y_train=train_data['odu_bid'].values\n",
    "y_test=test_data['odu_bid'].values"
   ]
  },
  {
   "cell_type": "markdown",
   "metadata": {},
   "source": [
    "# 显示表达式"
   ]
  },
  {
   "cell_type": "code",
   "execution_count": 564,
   "metadata": {
    "collapsed": true
   },
   "outputs": [],
   "source": [
    "# 类别特征列\n",
    "# batch_cols=[x for x in data_set.columns if x.endswith('batch')]\n",
    "# cut_cols=[x for x in data_set.columns if x.endswith('cut')]\n",
    "obj_cols=['tongdunblacklevel','blacklisttype']\n",
    "\n",
    "woe_cols=[x for x in data_set.columns if x.endswith('woe')]\n",
    "num_cols=['jiedaiscore','zxhouseloancnt','zxaccountcnt','bidnormalscoreexp3v2','prcidnormalscoreexp3v2','phonenormalscoreexp3v2','preaficoscorev5']\n",
    "\n",
    "num_vars=woe_cols+num_cols\n",
    "# 分类\n",
    "data_subset_cat=data_set[obj_cols]\n",
    "trans_cat_feats=pd.get_dummies(data = data_subset_cat,prefix=data_subset_cat.columns)\n",
    "\n",
    "# 离散\n",
    "trans_num_feats=data_set[num_vars]\n",
    "\n",
    "# 合并数据集：为后续做标准化做准备\n",
    "data_set_new=pd.concat([trans_cat_feats,trans_num_feats],axis=1)"
   ]
  },
  {
   "cell_type": "code",
   "execution_count": 565,
   "metadata": {
    "collapsed": false
   },
   "outputs": [],
   "source": [
    "# 对加工过程中产生的NUll值再次替换为0：保证数据集在入模前没有NULL值\n",
    "data_set_last=data_set_new.fillna(0)\n"
   ]
  },
  {
   "cell_type": "code",
   "execution_count": null,
   "metadata": {
    "collapsed": false,
    "scrolled": true
   },
   "outputs": [],
   "source": [
    "logit = sm.Logit(data_set['odu_bid'],data_set_v1).fit()\n",
    "logit.summary()"
   ]
  },
  {
   "cell_type": "code",
   "execution_count": 546,
   "metadata": {
    "collapsed": false
   },
   "outputs": [
    {
     "data": {
      "text/plain": [
       "zxaccountcnt_woe             1.184279\n",
       "blacklisttype_D3             1.025458\n",
       "mobileoperatorregdate_woe    0.685638\n",
       "age_woe                      0.601548\n",
       "blacklisttype_D4             0.362359\n",
       "education_woe                0.080137\n",
       "tongdunblacklevel_G2         0.003799\n",
       "phonenormalscoreexp3v2       0.002962\n",
       "zxaccountcnt                 0.002152\n",
       "preaficoscorev5             -0.000952\n",
       "prcidnormalscoreexp3v2      -0.006937\n",
       "jiedaiscore                 -0.010245\n",
       "bidnormalscoreexp3v2        -0.012278\n",
       "zxhouseloancnt              -0.255866\n",
       "tongdunblacklevel_G3        -0.263530\n",
       "tongdunblacklevel_G1        -0.310958\n",
       "blacklisttype_D2            -0.382810\n",
       "jiedaiscore_woe             -1.061464\n",
       "dtype: float64"
      ]
     },
     "execution_count": 546,
     "metadata": {},
     "output_type": "execute_result"
    }
   ],
   "source": [
    "a=logit.params\n",
    "a.sort_values(ascending=False)"
   ]
  },
  {
   "cell_type": "markdown",
   "metadata": {},
   "source": [
    "## 刻画人群"
   ]
  },
  {
   "cell_type": "code",
   "execution_count": null,
   "metadata": {
    "collapsed": false
   },
   "outputs": [],
   "source": [
    "data_set=data_set.drop('bad_feature',1)\n",
    "# 组合手机入网时间和学历特征\n",
    "# &(data_set.jiedaiscore_batch=='jiedaiscore_0')\n",
    "data_set.loc[(data_set.education_batch=='education_0')&(data_set.mobileoperatorregdate_batch=='mobileoperatorregdate_0')&(data_set.zxaccountcnt_batch!='zxaccountcnt_0')&(data_set.city_idx_batch!='city_idx_1'),'bad_feature']='spec_tig'\n",
    "data_set['bad_feature'].value_counts()"
   ]
  },
  {
   "cell_type": "code",
   "execution_count": null,
   "metadata": {
    "collapsed": false
   },
   "outputs": [],
   "source": [
    "# 数据整体去重\n",
    "data_set_dup=data_set.drop_duplicates()\n",
    "data_set_dup.shape\n",
    "\n",
    "# 全量\n",
    "all_apply_sum = data_set_dup['bid'].count()\n",
    "all_action_sum = data_set_dup['action'].sum()\n",
    "all_odu_sum = data_set_dup['odu_bid'].sum()\n",
    "print('整体授信人数：{}，用信人数：{}，逾期人数{}'.format(all_apply_sum, all_action_sum, all_odu_sum))\n",
    "\n",
    "# 目标人群\n",
    "apply_sum = data_set_dup[data_set_dup.bad_feature=='spec_tig']['bid'].count()\n",
    "action_sum = data_set_dup[data_set_dup.bad_feature=='spec_tig']['action'].sum()\n",
    "odu_sum = data_set_dup[data_set_dup.bad_feature=='spec_tig']['odu_bid'].sum()\n",
    "print('目标客群授信人数：{}，用信人数：{}，逾期人数{}'.format(apply_sum, action_sum, odu_sum))"
   ]
  },
  {
   "cell_type": "code",
   "execution_count": null,
   "metadata": {
    "collapsed": false
   },
   "outputs": [],
   "source": [
    "print '召回率：{:.2%}'.format(odu_sum*1.0/all_odu_sum)\n",
    "print '准确率：{:.2%}'.format(odu_sum*1.0/action_sum)\n",
    "print '误杀:{:.2%}'.format((action_sum-odu_sum)*1.0/(all_action_sum-all_odu_sum))\n",
    "\n",
    "# print  '用信人数下降：{:.2%}'.format(932*1.0/5541)\n",
    "# print  '逾期人数下降：{:.2%}'.format(169*1.0/671)\n",
    "print '新逾期率：{:.1%}'.format((all_odu_sum-odu_sum)*1.0/(all_action_sum-action_sum))"
   ]
  },
  {
   "cell_type": "code",
   "execution_count": 187,
   "metadata": {
    "collapsed": true
   },
   "outputs": [],
   "source": [
    "def inspect_dataset(train_data, test_data):\n",
    "    print('\\n===================== 数据查看 =====================')\n",
    "    print('训练集有{}条记录。'.format(len(train_data)))\n",
    "    print('测试集有{}条记录。'.format(len(test_data)))\n",
    "    # 可视化各类别的数量统计图\n",
    "    plt.figure(figsize=(10, 5))\n",
    "    # Train data\n",
    "    ax1 = plt.subplot(1, 2, 1)\n",
    "    sns.countplot(x='odu_bid', data=train_data)\n",
    "    plt.title('Train_data')\n",
    "    plt.xlabel('odu_bid')\n",
    "    plt.ylabel('count')\n",
    "    # Test data\n",
    "    plt.subplot(1, 2, 2, sharey=ax1)\n",
    "    sns.countplot(x='odu_bid', data=test_data)\n",
    "    plt.title('Test_data')\n",
    "    plt.xlabel('odu_bid')\n",
    "    plt.ylabel('count')\n",
    "    plt.tight_layout()\n",
    "    plt.show()"
   ]
  },
  {
   "cell_type": "code",
   "execution_count": null,
   "metadata": {
    "collapsed": false
   },
   "outputs": [],
   "source": [
    "inspect_dataset(train_data, test_data)"
   ]
  }
 ],
 "metadata": {
  "kernelspec": {
   "display_name": "Python 2",
   "language": "python",
   "name": "python2"
  },
  "language_info": {
   "codemirror_mode": {
    "name": "ipython",
    "version": 2
   },
   "file_extension": ".py",
   "mimetype": "text/x-python",
   "name": "python",
   "nbconvert_exporter": "python",
   "pygments_lexer": "ipython2",
   "version": "2.7.13"
  },
  "toc": {
   "nav_menu": {},
   "number_sections": true,
   "sideBar": true,
   "skip_h1_title": false,
   "title_cell": "Table of Contents",
   "title_sidebar": "抽象建模",
   "toc_cell": false,
   "toc_position": {
    "height": "calc(100% - 180px)",
    "left": "10px",
    "top": "150px",
    "width": "384px"
   },
   "toc_section_display": true,
   "toc_window_display": true
  }
 },
 "nbformat": 4,
 "nbformat_minor": 2
}
