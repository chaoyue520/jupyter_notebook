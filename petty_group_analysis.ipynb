{
 "cells": [
  {
   "cell_type": "markdown",
   "metadata": {},
   "source": [
    "# 准备阶段"
   ]
  },
  {
   "cell_type": "markdown",
   "metadata": {},
   "source": [
    "## 加载依赖的块和库"
   ]
  },
  {
   "cell_type": "code",
   "execution_count": null,
   "metadata": {
    "collapsed": false
   },
   "outputs": [],
   "source": [
    "import numpy as np\n",
    "import pandas as pd\n",
    "import matplotlib.pyplot as plt\n",
    "import matplotlib.cm as cm\n",
    "import seaborn as sns\n",
    "\n",
    "from sklearn import preprocessing\n",
    "from scipy.stats import skew, boxcox\n",
    "import os\n",
    "\n",
    "from pyecharts import Bar\n",
    "import mpld3\n",
    "from mpld3 import plugins\n",
    "\n",
    "%matplotlib inline"
   ]
  },
  {
   "cell_type": "markdown",
   "metadata": {},
   "source": [
    "# 探索性数据分析(EDA)及可视化"
   ]
  },
  {
   "cell_type": "code",
   "execution_count": null,
   "metadata": {
    "collapsed": false
   },
   "outputs": [],
   "source": [
    "# 定义异常值范围\n",
    "na_values=['','NULL','NA','null','na','Na','-9999','Infinity','NaN']\n",
    "xpath='D:\\\\\\xc8\\xd5\\xb3\\xa3\\xb7\\xd6\\xce\\xf6\\xb1\\xa8\\xb8\\xe6\\\\\\xb3\\xac\\xd0\\xa1\\xb6\\xee\\xb7\\xd6\\xce\\xf6\\\\'\n",
    "# 读取数据集\n",
    "data_set_name=pd.read_table(xpath+'data\\\\data_set_name.txt',header=None,sep='\\t',na_values = na_values)\n",
    "data_set=pd.read_table(xpath+'data\\\\data_set.txt',header=None,sep='\\t',na_values = na_values,names=data_set_name[0],index_col=None)\n",
    "\n",
    "# 查看数据集信息\n",
    "print('---------------------------------------数据预览：---------------------------------------------')\n",
    "print(data_set.head())\n",
    "\n",
    "print('---------------------------------------数据集基本信息：---------------------------------------')\n",
    "print(data_set.info())\n",
    "\n",
    "print('---------------------------------------数据统计信息：-----------------------------------------')\n",
    "print(data_set.describe())"
   ]
  },
  {
   "cell_type": "markdown",
   "metadata": {},
   "source": [
    "## 数据处理"
   ]
  },
  {
   "cell_type": "markdown",
   "metadata": {},
   "source": [
    "### 聚合分类变量"
   ]
  },
  {
   "cell_type": "code",
   "execution_count": null,
   "metadata": {
    "collapsed": false
   },
   "outputs": [],
   "source": [
    "# 申请城市city_idx聚合为1线城市，2线城市，3线城市及其他\n",
    "data_set.loc[data_set.city_idx==1.0,'city_index_cut']='1_city'\n",
    "data_set.loc[data_set.city_idx==1.5,'city_index_cut']='2_city'\n",
    "data_set.loc[data_set.city_idx==2.0,'city_index_cut']='3_city'\n",
    "data_set.loc[(data_set.city_idx!=1.0) & (data_set.city_idx!=1.5) & (data_set.city_idx!=2.0),'city_index_cut']='4_city'\n",
    "\n",
    "# 构建新变量，并按照索引排序\n",
    "data_set['city_index_cut'].value_counts(dropna=False).sort_index()"
   ]
  },
  {
   "cell_type": "markdown",
   "metadata": {},
   "source": [
    "### 离散化数值型变量"
   ]
  },
  {
   "cell_type": "code",
   "execution_count": null,
   "metadata": {
    "collapsed": false
   },
   "outputs": [],
   "source": [
    "# age\n",
    "age_bins=[0,18,22,28,35,45,55,np.inf]\n",
    "age_group_names=range(1,len(age_bins))\n",
    "cats=pd.cut(list(data_set['age']),age_bins,right = False,labels=age_group_names) # right=False 表示左闭口右开\n",
    "data_set['age_cut']=list(cats)\n",
    "\n",
    "# 同盾和百度多头\n",
    "duotou_vars=['jiedaiscore','bidnormalscoreexp3v2','prcidnormalscoreexp3v2','phonenormalscoreexp3v2']\n",
    "duotou_bins=[0,20,40,60,80,100]\n",
    "duotou_group_name=range(1,len(duotou_bins))\n",
    "for col in duotou_vars:\n",
    "    cats=pd.cut(list(data_set[col]),duotou_bins,right = False,labels=duotou_group_name)\n",
    "    data_set[str(col)+'_'+'cut']=list(cats)\n",
    "\n",
    "\n",
    "# 手机入网时长 mobileOperatorRegDate\n",
    "mobile_bins=[0,10,20,30,40,np.inf]\n",
    "mobile_group_name=range(1,len(mobile_bins))\n",
    "cats=pd.cut(list(data_set['mobileoperatorregdate']),mobile_bins,right=False,labels=mobile_group_name)\n",
    "data_set['mobileoperatorregdate_cut']=list(cats)\n",
    "\n",
    "\n",
    "# 征信\n",
    "zx_vars=['zxaccountcnt','zxhouseloancnt']\n",
    "zx_bins=[-np.inf,1,5,10,np.inf]\n",
    "zx_group_name=range(1,len(zx_bins))\n",
    "for col in zx_vars:\n",
    "    cats=pd.cut(list(data_set[col]),zx_bins,right=False,labels=zx_group_name)\n",
    "    data_set[str(col)+'_'+'cut']=list(cats)\n",
    "    \n",
    "\n",
    "# preaficoscorev5\n",
    "prea_bins=[0,480,520,550,600,650,np.inf]\n",
    "pre_group_name=range(1,len(prea_bins))\n",
    "cats=pd.cut(list(data_set['preaficoscorev5']),prea_bins,right=False,labels=pre_group_name)\n",
    "data_set['preaficoscorev5_cut']=list(cats)\n",
    "\n"
   ]
  },
  {
   "cell_type": "code",
   "execution_count": null,
   "metadata": {
    "collapsed": false
   },
   "outputs": [],
   "source": [
    "# 概览\n",
    "data_set[['preaficoscorev5','preaficoscorev5_cut','zxaccountcnt','zxaccountcnt_cut','age','age_cut']].head()"
   ]
  },
  {
   "cell_type": "markdown",
   "metadata": {},
   "source": [
    "### 构建逻辑变量"
   ]
  },
  {
   "cell_type": "code",
   "execution_count": null,
   "metadata": {
    "collapsed": true
   },
   "outputs": [],
   "source": [
    "# 判断是否授信\n",
    "data_set['apply_bid']=1"
   ]
  },
  {
   "cell_type": "code",
   "execution_count": null,
   "metadata": {
    "collapsed": false
   },
   "outputs": [],
   "source": [
    "# 判断用户是否用信：due_days大于等于0，表示用户用信\n",
    "action=[]\n",
    "for i in range(len(data_set)):\n",
    "    if data_set['due_days'][i]>=0:\n",
    "        action.append(1)\n",
    "    else :\n",
    "        action.append(0)\n",
    "\n",
    "data_set['action']=action"
   ]
  },
  {
   "cell_type": "code",
   "execution_count": null,
   "metadata": {
    "collapsed": true
   },
   "outputs": [],
   "source": [
    "#  判断是否逾期用户\n",
    "odu_bid=[]\n",
    "for i in range(len(data_set)):\n",
    "    if data_set['due_days'][i]>0:\n",
    "        odu_bid.append(1)\n",
    "    else :\n",
    "        odu_bid.append(0)\n",
    "\n",
    "data_set['odu_bid']=odu_bid"
   ]
  },
  {
   "cell_type": "code",
   "execution_count": null,
   "metadata": {
    "collapsed": false
   },
   "outputs": [],
   "source": [
    "# 判断是否是超小额用户\n",
    "petty_bid=[]\n",
    "for i in range(len(data_set)):\n",
    "    if data_set['initialamount'][i] == 50000:\n",
    "        petty_bid.append(1)\n",
    "    else :\n",
    "        petty_bid.append(0)\n",
    "\n",
    "data_set['petty_bid']=petty_bid"
   ]
  },
  {
   "cell_type": "code",
   "execution_count": null,
   "metadata": {
    "collapsed": true
   },
   "outputs": [],
   "source": [
    "# 判断是否是用信超小额用户\n",
    "action_petty_bid=[]\n",
    "for i in range(len(data_set)):\n",
    "    if data_set['initialamount'][i] == 50000 and data_set['due_days'][i]>=0:\n",
    "        action_petty_bid.append(1)\n",
    "    else :\n",
    "        action_petty_bid.append(0)\n",
    "\n",
    "data_set['action_petty_bid']=action_petty_bid"
   ]
  },
  {
   "cell_type": "code",
   "execution_count": null,
   "metadata": {
    "collapsed": true
   },
   "outputs": [],
   "source": [
    "# 将客群分成三类，即A，B，C\n",
    "data_set.loc[data_set.is_white==1,'white_petty_bid']='A'\n",
    "data_set.loc[(data_set.is_white==0)&(data_set.petty_bid==0),'white_petty_bid']='B'\n",
    "data_set.loc[(data_set.is_white==0)&(data_set.petty_bid==1),'white_petty_bid']='C'"
   ]
  },
  {
   "cell_type": "markdown",
   "metadata": {},
   "source": [
    "### 基本数据概览"
   ]
  },
  {
   "cell_type": "code",
   "execution_count": null,
   "metadata": {
    "collapsed": false
   },
   "outputs": [],
   "source": [
    "white_petty_grouped = data_set.groupby('white_petty_bid')\n",
    "# 迭代groupby对象\n",
    "for group, frame in white_petty_grouped:\n",
    "    apply_sum = frame['bid'].count()\n",
    "    action_sum = frame['action'].sum()\n",
    "    odu_sum = frame['odu_bid'].sum()\n",
    "    ratio_action=round(frame['action'].sum()*1.0/frame['bid'].count()*100,2)\n",
    "    ratio_odu=round(frame['odu_bid'].sum()*1.0/frame['action'].sum()*100,2)\n",
    "    print('{}群体授信人数：{}，用信人数：{}，逾期人数{} , 用信率(%)：{}，逾期率(%)：{}'.format(group, apply_sum, action_sum, odu_sum , ratio_action,ratio_odu))"
   ]
  },
  {
   "cell_type": "markdown",
   "metadata": {},
   "source": [
    "结论1：\n",
    "* 整体授信群体一共1083380人，用信581076人，逾期19076人。用信率：53.6%，逾期率：3.2%\n",
    "* 白名单群体用信率和逾期率跟大盘持平\n",
    "* 非白群体中，超小额群体用信意愿最低，且逾期率也最高，明显高于整体非白群体"
   ]
  },
  {
   "cell_type": "markdown",
   "metadata": {},
   "source": [
    "## 连续变量统计信息表\n",
    "\n",
    "* 对于分类型变量，考虑不同组合下，不同群体的分布变化"
   ]
  },
  {
   "cell_type": "markdown",
   "metadata": {},
   "source": [
    "### (白名单，超小额)客群分布"
   ]
  },
  {
   "cell_type": "code",
   "execution_count": null,
   "metadata": {
    "collapsed": false
   },
   "outputs": [],
   "source": [
    "# 表格：超小额用户群体用信人数和逾期人数\n",
    "grouped = data_set.groupby(['is_white','petty_bid'])\n",
    "for group, frame in grouped:\n",
    "    print('（白名单，超小额）为{}的申请用户个数：{}'.format(group, len(frame)))\n",
    "\n",
    "df=grouped.agg({'apply_bid':np.sum,'action': np.sum ,'odu_bid':np.sum})\n",
    "\n",
    "# 三类客群申请，用信及逾期分布\n",
    "df['授信人数']=df['apply_bid']\n",
    "df['用信人数']=df['action']\n",
    "df['用信率']=(df['action']*1.0/df['apply_bid']).apply(lambda x: format(x, '.1%'))\n",
    "df['逾期人数']=df['odu_bid']\n",
    "df['逾期率']=(df['odu_bid']*1.0/df['action']).apply(lambda x: format(x, '.1%'))\n",
    "df.drop(['action','odu_bid','apply_bid'],axis=1)"
   ]
  },
  {
   "cell_type": "markdown",
   "metadata": {},
   "source": [
    "**存在的问题：**\n",
    "\n",
    "* 超小额群体的授信，用信和逾期情况主要集中在非白群体中\n",
    "* 考虑将上述四象限群体合并为白名单用户(A客群)，非白非超小额群体(B客群)，非白超小额群体(C客群)"
   ]
  },
  {
   "cell_type": "markdown",
   "metadata": {},
   "source": [
    "### 三类客群整体分布"
   ]
  },
  {
   "cell_type": "code",
   "execution_count": null,
   "metadata": {
    "collapsed": false,
    "scrolled": true
   },
   "outputs": [],
   "source": [
    "# 表格：超小额用户群体用信人数和逾期人数\n",
    "grouped = data_set.groupby(['white_petty_bid'])\n",
    "for group, frame in grouped:\n",
    "    print('{}客群的申请用户个数：{}'.format(group, len(frame)))\n",
    "\n",
    "df=grouped.agg({'apply_bid':np.sum,'action': np.sum ,'odu_bid':np.sum})\n",
    "\n",
    "# 三类客群申请，用信及逾期分布\n",
    "df['授信人数']=df['apply_bid']\n",
    "df['用信人数']=df['action']\n",
    "df['用信率']=(df['action']*1.0/df['apply_bid']).apply(lambda x: format(x, '.1%'))\n",
    "df['逾期人数']=df['odu_bid']\n",
    "df['逾期率']=(df['odu_bid']*1.0/df['action']).apply(lambda x: format(x, '.1%'))\n",
    "df.drop(['action','odu_bid','apply_bid'],axis=1)"
   ]
  },
  {
   "cell_type": "code",
   "execution_count": null,
   "metadata": {
    "collapsed": false
   },
   "outputs": [],
   "source": [
    "# 数据覆盖问题\n",
    "need_cols=['white_petty_bid','blacklisttype','tongdunblacklevel','jiedaiscore','mobileoperatorregdate','zxhouseloancnt','zxaccountcnt','bidnormalscoreexp3v2','phonenormalscoreexp3v2','prcidnormalscoreexp3v2']\n",
    "data_set_0=data_set[need_cols]\n",
    "df_A=data_set_0[data_set_0.white_petty_bid=='A']\n",
    "df_B=data_set_0[data_set_0.white_petty_bid=='B']\n",
    "df_C=data_set_0[data_set_0.white_petty_bid=='C']\n",
    "\n",
    "# 计算覆盖率\n",
    "def get_freq_prcent(df):\n",
    "    cover_dt=df.isnull().describe().T\n",
    "    cover_dt['freq_prcent']=(cover_dt['freq']/cover_dt['count']).apply(lambda x : format(x ,'.1%'))\n",
    "    cover_dt_a=cover_dt.drop(['unique','top'],axis=1)\n",
    "    return cover_dt_a"
   ]
  },
  {
   "cell_type": "code",
   "execution_count": null,
   "metadata": {
    "collapsed": false
   },
   "outputs": [],
   "source": [
    "# 分别三类群体的覆盖度并左右拼接数据，横向对比\n",
    "df_A_1=get_freq_prcent(df_A).rename(columns={'count':'cnt_a','freq':'freq_a','freq_prcent':'freq_prcent_a'})\n",
    "df_B_1=get_freq_prcent(df_B).rename(columns={'count':'cnt_b','freq':'freq_b','freq_prcent':'freq_prcent_b'})\n",
    "df_C_1=get_freq_prcent(df_C).rename(columns={'count':'cnt_c','freq':'freq_c','freq_prcent':'freq_prcent_c'})\n",
    "\n",
    "print ('\\n A，B，C三类人群对应特征字段非空比例：')\n",
    "pd.concat([df_A_1,df_B_1,df_C_1],axis=1)[['freq_prcent_a','freq_prcent_b','freq_prcent_c']]"
   ]
  },
  {
   "cell_type": "markdown",
   "metadata": {},
   "source": [
    "** 定位问题 : **\n",
    "\n",
    "* C类人群至少是一群**征信覆盖比较低**的人\n",
    "* C类客群用信率比较低，即无太大用信意愿，而对于用信的用户而言，逾期率又普遍偏高。"
   ]
  },
  {
   "cell_type": "markdown",
   "metadata": {},
   "source": [
    "### 三类客群统计信息"
   ]
  },
  {
   "cell_type": "code",
   "execution_count": null,
   "metadata": {
    "collapsed": false
   },
   "outputs": [],
   "source": [
    "# stat cols：连续值\n",
    "stat_cols_float=['white_petty_bid','age','jiedaiscore','zxhouseloancnt','zxaccountcnt','bidnormalscoreexp3v2','prcidnormalscoreexp3v2','phonenormalscoreexp3v2','preaficoscorev5']\n",
    "data_set_float=data_set[stat_cols_float]\n",
    "\n",
    "# 子集：连续变量\n",
    "df_stat=data_set_float.groupby(['white_petty_bid'])\n",
    "df_result=df_stat.describe().transpose()[['A','C']]\n",
    "df_result"
   ]
  },
  {
   "cell_type": "markdown",
   "metadata": {},
   "source": [
    "### **结论：**"
   ]
  },
  {
   "cell_type": "markdown",
   "metadata": {},
   "source": [
    "* 年龄普遍偏低\n",
    "* bidnormalscoreexp3v2分值偏低且分布相对集中\n",
    "* jiedaiscore分值偏高，整体分布跟白名单用户类似\n",
    "* phonenormalscoreexp3v2和prcidnormalscoreexp3v2分布几乎无差异\n",
    "* preaficoscorev5分布相对较集中，且整体分值偏低；\n",
    "* zxaccountcnt分布整体偏低且较集中；zxhouseloancnt无显著区分"
   ]
  },
  {
   "cell_type": "markdown",
   "metadata": {},
   "source": [
    "### 补充：相关性分析"
   ]
  },
  {
   "cell_type": "markdown",
   "metadata": {},
   "source": [
    "#### 变量相关性"
   ]
  },
  {
   "cell_type": "code",
   "execution_count": null,
   "metadata": {
    "collapsed": false
   },
   "outputs": [],
   "source": [
    "# # 查看变量间的相关性\n",
    "corr_data=data_set[['white_petty_bid','jiedaiscore','bidnormalscoreexp3v2','prcidnormalscoreexp3v2','preaficoscorev5','zxhouseloancnt','zxaccountcnt','age','phonenormalscoreexp3v2']]\n",
    "corr_data.columns = ['white', 'jie','bind','prcid','prea','zxh','zxa','age','phone']\n",
    "sns.heatmap(corr_data.corr())"
   ]
  },
  {
   "cell_type": "markdown",
   "metadata": {},
   "source": [
    "#### 高斯密度曲线"
   ]
  },
  {
   "cell_type": "code",
   "execution_count": null,
   "metadata": {
    "collapsed": false
   },
   "outputs": [],
   "source": [
    "import warnings\n",
    "warnings.filterwarnings(\"ignore\")\n",
    "\n",
    "# 筛选非白群体\n",
    "df=data_set.sample(n=20000)\n",
    "sns_data=df[['white_petty_bid','jiedaiscore','bidnormalscoreexp3v2','preaficoscorev5','zxhouseloancnt','zxaccountcnt','age']]\n",
    "sns.pairplot(sns_data, hue='white_petty_bid', diag_kind='kde')"
   ]
  },
  {
   "cell_type": "markdown",
   "metadata": {},
   "source": [
    "补充：\n",
    "\n",
    "* kde曲线可以避免因bins手工设置不合理导致的数据分布异常的情况发生"
   ]
  },
  {
   "cell_type": "markdown",
   "metadata": {},
   "source": [
    "## 分类数据分布及占比\n",
    "\n",
    "* 分析white_petty_bid群体（细分为A，B，C）的用信和逾期指标在不同 **X特征** 下的分布情况\n"
   ]
  },
  {
   "cell_type": "code",
   "execution_count": null,
   "metadata": {
    "collapsed": true
   },
   "outputs": [],
   "source": [
    "# 离散数据求占比\n",
    "import copy\n",
    "def ratio(input_data):\n",
    "    output_data=copy.deepcopy(input_data)\n",
    "    n=output_data.shape[0]\n",
    "    m=input_data.shape[1]-1\n",
    "    for col in list(output_data.columns):\n",
    "        for i in range(n):\n",
    "            if col=='dt':\n",
    "                output_data['dt'][i]=input_data.iloc[i][m]\n",
    "            else :\n",
    "                output_data[col][i]=round(100.0*input_data[col][i]/input_data.iloc[:,m][i],2)\n",
    "    return output_data"
   ]
  },
  {
   "cell_type": "markdown",
   "metadata": {},
   "source": [
    "### 年龄分段\n",
    "\n",
    "* 年龄分段：超小额群体年龄多集中在2区间内，即18~22岁"
   ]
  },
  {
   "cell_type": "code",
   "execution_count": null,
   "metadata": {
    "collapsed": false
   },
   "outputs": [],
   "source": [
    "# 不同目标群体在不同年龄区间的用信和逾期分布\n",
    "df1=data_set.pivot_table(values=['apply_bid'], index='white_petty_bid', columns=['age_cut'], aggfunc=np.sum, margins=True)\n",
    "pd.concat([df1['apply_bid'],ratio(df1['apply_bid'])],axis=1)"
   ]
  },
  {
   "cell_type": "markdown",
   "metadata": {},
   "source": [
    "### jiedai分段\n",
    "\n",
    "* jiedaiscore分段：超小额群体年龄多集中在4区间内，即60~80分"
   ]
  },
  {
   "cell_type": "code",
   "execution_count": null,
   "metadata": {
    "collapsed": false
   },
   "outputs": [],
   "source": [
    "# 不同目标群体在不同年龄区间的用信和逾期分布\n",
    "df2=data_set.pivot_table(values=['apply_bid'], index='white_petty_bid', columns=['jiedaiscore_cut'], aggfunc=np.sum, margins=True)\n",
    "pd.concat([df2['apply_bid'],ratio(df2['apply_bid'])],axis=1)"
   ]
  },
  {
   "cell_type": "markdown",
   "metadata": {},
   "source": [
    "### 同盾黑名单等级\n",
    "\n",
    "* tongdunblacklevel：G3等级黑名单人群占比相对较高"
   ]
  },
  {
   "cell_type": "code",
   "execution_count": null,
   "metadata": {
    "collapsed": false
   },
   "outputs": [],
   "source": [
    "# 不同目标群体在不同年龄区间的用信和逾期分布\n",
    "df3=data_set.pivot_table(values=['apply_bid'], index='white_petty_bid', columns=['tongdunblacklevel'], aggfunc=np.sum, margins=True)\n",
    "pd.concat([df3['apply_bid'],ratio(df3['apply_bid'])],axis=1)"
   ]
  },
  {
   "cell_type": "markdown",
   "metadata": {},
   "source": [
    "### 城市等级\n",
    "\n",
    "* 城市等级：4线及以上城市较多"
   ]
  },
  {
   "cell_type": "code",
   "execution_count": null,
   "metadata": {
    "collapsed": false
   },
   "outputs": [],
   "source": [
    "# 不同目标群体在不同年龄区间的用信和逾期分布\n",
    "df4=data_set.pivot_table(values=['apply_bid'], index='white_petty_bid', columns=['city_index_cut'], aggfunc=np.sum, margins=True)\n",
    "pd.concat([df4['apply_bid'],ratio(df4['apply_bid'])],axis=1)"
   ]
  },
  {
   "cell_type": "markdown",
   "metadata": {},
   "source": [
    "### 教育等级\n",
    "\n",
    "* education：多为无学历信息"
   ]
  },
  {
   "cell_type": "code",
   "execution_count": null,
   "metadata": {
    "collapsed": false
   },
   "outputs": [],
   "source": [
    "# 不同目标群体在不同年龄区间的用信和逾期分布\n",
    "df5=data_set.pivot_table(values=['apply_bid'], index='white_petty_bid', columns=['education'], aggfunc=np.sum, margins=True)\n",
    "pd.concat([df5['apply_bid'],ratio(df5['apply_bid'])],axis=1)"
   ]
  },
  {
   "cell_type": "markdown",
   "metadata": {},
   "source": [
    "### preacustseg\n",
    "\n",
    "* preacustseg：UNK标识占大多数"
   ]
  },
  {
   "cell_type": "code",
   "execution_count": null,
   "metadata": {
    "collapsed": false
   },
   "outputs": [],
   "source": [
    "# 不同目标群体在不同年龄区间的用信和逾期分布\n",
    "df6=data_set.pivot_table(values=['apply_bid'], index='white_petty_bid', columns=['preacustseg'], aggfunc=np.sum, margins=True)\n",
    "pd.concat([df6['apply_bid'],ratio(df6['apply_bid'])],axis=1)"
   ]
  },
  {
   "cell_type": "markdown",
   "metadata": {},
   "source": [
    "### **结论：**"
   ]
  },
  {
   "cell_type": "markdown",
   "metadata": {},
   "source": [
    "* 年龄分段：超小额群体年龄多集中在2区间内，即18~22岁\n",
    "* jiedaiscore分段：超小额群体年龄多集中在4区间内，即60~80分\n",
    "* tongdunblacklevel：G3等级黑名单人群占比相对较高\n",
    "* education：多为无学历信息\n",
    "* 城市等级：4线及以上城市较多\n",
    "* preacustseg：UNK标识占大多数"
   ]
  },
  {
   "cell_type": "markdown",
   "metadata": {},
   "source": [
    "### 补充：作图"
   ]
  },
  {
   "cell_type": "markdown",
   "metadata": {},
   "source": [
    "#### 箱线图"
   ]
  },
  {
   "cell_type": "code",
   "execution_count": null,
   "metadata": {
    "collapsed": false
   },
   "outputs": [],
   "source": [
    "# 箱图分布\n",
    "fig, axs = plt.subplots(2, 2, figsize=(10, 10))\n",
    "\n",
    "a = sns.boxplot(x='white_petty_bid', y='age', data=data_set, ax=axs[0][0])\n",
    "# axs[0][0].set_yscale('log')\n",
    "\n",
    "b = sns.boxplot(x='white_petty_bid', y='jiedaiscore', data=data_set, ax=axs[0][1])\n",
    "# axs[0][1].set(ylim=(0, 0.5e8))\n",
    "\n",
    "c = sns.boxplot(x='white_petty_bid', y='preaficoscorev5', data=data_set, ax=axs[1][0])\n",
    "# axs[1][0].set(ylim=(0, 3e7))\n",
    "\n",
    "d = sns.boxplot(x='white_petty_bid', y='zxaccountcnt', data=data_set, ax=axs[1][1])\n",
    "\n",
    "plt.show()\n"
   ]
  },
  {
   "cell_type": "markdown",
   "metadata": {},
   "source": [
    "#### 散点图"
   ]
  },
  {
   "cell_type": "code",
   "execution_count": null,
   "metadata": {
    "collapsed": false
   },
   "outputs": [],
   "source": [
    "g=sns.FacetGrid(data_set,hue=\"white_petty_bid\",col=\"education\",margin_titles=True)\n",
    "g.map(plt.scatter,\"initialamount\",\"age\",alpha=0.7)\n",
    "g.add_legend()"
   ]
  },
  {
   "cell_type": "markdown",
   "metadata": {},
   "source": [
    "## 趋势性分析"
   ]
  },
  {
   "cell_type": "code",
   "execution_count": null,
   "metadata": {
    "collapsed": false
   },
   "outputs": [],
   "source": [
    "# 首先构建时间变量\n",
    "from datetime import datetime, date, time\n",
    "from time import strftime, localtime\n",
    "\n",
    "apply_time=data_set['apply_time'].astype(str)\n",
    "# 分别添加日期维度和周维度\n",
    "apply_day=[]\n",
    "apply_week=[]\n",
    "for i in apply_time:\n",
    "    a_1=datetime.strptime(i,\"%Y%m%d%H%M%S\").strftime(\"%m-%d\")\n",
    "    w_1=datetime.strptime(i,\"%Y%m%d%H%M%S\").strftime(\"%Y-%W\")\n",
    "    apply_day.append(a_1)\n",
    "    apply_week.append(w_1)\n",
    "\n",
    "data_set['apply_dt']=list(apply_day)\n",
    "data_set['apply_day_w']=list(apply_week)\n",
    "# data_set['apply_dt']=data_set['apply_dt'].astype(object)"
   ]
  },
  {
   "cell_type": "code",
   "execution_count": null,
   "metadata": {
    "collapsed": false
   },
   "outputs": [],
   "source": [
    "# 不同目标群体逾期人数时间分布\n",
    "line_petty_df=data_set.pivot_table(values=['apply_bid'], index='apply_dt', columns='white_petty_bid', aggfunc=[np.sum])\n",
    "# line_petty_df.plot()\n",
    "\n",
    "# 时间趋势\n",
    "fig, ax = plt.subplots(figsize=(12, 8))\n",
    "labels = ['A','B','C']\n",
    "lines = ax.plot( line_petty_df.values, lw=2)\n",
    "interactive_legend = plugins.InteractiveLegendPlugin(lines, labels)\n",
    "plugins.connect(fig, interactive_legend)\n",
    "\n",
    "mpld3.display()"
   ]
  },
  {
   "cell_type": "code",
   "execution_count": null,
   "metadata": {
    "collapsed": false
   },
   "outputs": [],
   "source": [
    "# 箱图分布\n",
    "fig, axs = plt.subplots(2, 2, figsize=(10, 10))\n",
    "\n",
    "# 透视表\n",
    "df=pd.pivot_table(data_set[data_set.white_petty_bid!='C'],index=[\"age_cut\"], columns=[\"apply_day_w\"], values=[\"due_days\"],aggfunc=np.sum)\n",
    "a=sns.heatmap(df['due_days'],annot=False,fmt=\"0.1f\",ax=axs[0][0])\n",
    "\n",
    "# # 透视表\n",
    "df=pd.pivot_table(data_set[data_set.white_petty_bid=='C'],index=[\"age_cut\"], columns=[\"apply_day_w\"], values=[\"due_days\"],aggfunc=np.sum)\n",
    "b=sns.heatmap(df['due_days'],annot=False,fmt=\"0.1f\",ax=axs[0][1])\n",
    "\n",
    "\n",
    "# 透视表\n",
    "df=pd.pivot_table(data_set[data_set.white_petty_bid!='C'],index=[\"tongdunblacklevel\"], columns=[\"apply_day_w\"], values=[\"due_days\"],aggfunc=np.sum)\n",
    "c=sns.heatmap(df['due_days'],annot=False,fmt=\"0.1f\",ax=axs[1][0])\n",
    "\n",
    "# # 透视表\n",
    "df=pd.pivot_table(data_set[data_set.white_petty_bid=='C'],index=[\"tongdunblacklevel\"], columns=[\"apply_day_w\"], values=[\"due_days\"],aggfunc=np.sum)\n",
    "d=sns.heatmap(df['due_days'],annot=False,fmt=\"0.1f\",ax=axs[1][1])\n",
    "\n",
    "\n",
    "plt.show()"
   ]
  },
  {
   "cell_type": "markdown",
   "metadata": {},
   "source": [
    "结论:\n",
    "* 从热力图可以看出，18~22岁人群虽然差，但是从逾期上来看，整体age都不好"
   ]
  },
  {
   "cell_type": "markdown",
   "metadata": {},
   "source": [
    "# 超小额群体行为特征"
   ]
  },
  {
   "cell_type": "markdown",
   "metadata": {},
   "source": [
    "## 准备数据"
   ]
  },
  {
   "cell_type": "code",
   "execution_count": null,
   "metadata": {
    "collapsed": true
   },
   "outputs": [],
   "source": [
    "# 超小额用户群体\n",
    "petty_data_set=data_set[data_set.white_petty_bid=='C']"
   ]
  },
  {
   "cell_type": "code",
   "execution_count": null,
   "metadata": {
    "collapsed": false
   },
   "outputs": [],
   "source": [
    "# 表格：超小额用户群体用信人数和逾期人数\n",
    "grouped = petty_data_set.groupby(['white_petty_bid'])\n",
    "for group, frame in grouped:\n",
    "    print('{}客群的申请用户个数：{}'.format(group, len(frame)))\n",
    "\n",
    "df=grouped.agg({'apply_bid':np.sum,'action': np.sum ,'odu_bid':np.sum})\n",
    "\n",
    "# 三类客群申请，用信及逾期分布\n",
    "df['授信人数']=df['apply_bid']\n",
    "df['用信人数']=df['action']\n",
    "df['用信率']=(df['action']*1.0/df['apply_bid']).apply(lambda x: format(x, '.1%'))\n",
    "df['逾期人数']=df['odu_bid']\n",
    "df['逾期率']=(df['odu_bid']*1.0/df['action']).apply(lambda x: format(x, '.1%'))\n",
    "df.drop(['action','odu_bid','apply_bid'],axis=1)"
   ]
  },
  {
   "cell_type": "markdown",
   "metadata": {},
   "source": [
    "## 用信用户是否逾期变量特征"
   ]
  },
  {
   "cell_type": "markdown",
   "metadata": {},
   "source": [
    "### 用户是否逾期散点图"
   ]
  },
  {
   "cell_type": "code",
   "execution_count": null,
   "metadata": {
    "collapsed": true
   },
   "outputs": [],
   "source": [
    "# 筛选用信用户\n",
    "petty_action_dt=petty_data_set[petty_data_set.action==1]"
   ]
  },
  {
   "cell_type": "code",
   "execution_count": null,
   "metadata": {
    "collapsed": false
   },
   "outputs": [],
   "source": [
    "# 筛选非白群体\n",
    "petty_action_dt.loc[petty_action_dt.odu_bid==0,'odu_type']='odu_0'\n",
    "petty_action_dt.loc[petty_action_dt.odu_bid==1,'odu_type']='odu_1'\n",
    "sns_data=petty_action_dt[['odu_type','jiedaiscore','bidnormalscoreexp3v2','preaficoscorev5','zxhouseloancnt','zxaccountcnt','age']]\n",
    "\n",
    "# 散点图 palette=\"Set2\"\n",
    "sns.pairplot(sns_data, hue='odu_type', diag_kind='kde',size=2,markers=\"+\")"
   ]
  },
  {
   "cell_type": "markdown",
   "metadata": {},
   "source": [
    "解读：\n",
    "\n",
    "* 直观上看，简单的变量组合很难完全区分出超小额逾期用户和未逾期用户。散点图分布重叠度比较高\n",
    "* 同时，从变量的KDE曲线上也比较难以区分"
   ]
  },
  {
   "cell_type": "code",
   "execution_count": null,
   "metadata": {
    "collapsed": false
   },
   "outputs": [],
   "source": [
    "# 筛选特征\n",
    "def get_vars_copula(df,col,row,bid_cnt,lower_ratio,upper_ratio):\n",
    "    df_1=petty_action_dt.pivot_table(values=['action','odu_bid'], index=col, columns=row, aggfunc={\"action\":len,\"odu_bid\":np.sum})\n",
    "    df_2=df_1['odu_bid'][df_1.action>=bid_cnt]/df_1['action']\n",
    "    return df_2[(df_2>=lower_ratio)&(df_2<upper_ratio)]\n",
    "\n",
    "cut_vars=[x for x in petty_action_dt.columns if x.endswith('cut')]\n",
    "append_vars=['preacustseg','tongdunblacklevel','blacklisttype','education']\n",
    "index_vars=cut_vars+append_vars\n",
    "col_vars=index_vars\n",
    "\n",
    "# 用信人数大于30人，逾期率大于20%人群组合特征\n",
    "# 如果全是Null值，则不输出\n",
    "for i in index_vars:\n",
    "    for j in col_vars:\n",
    "        if i != j:\n",
    "            a=get_vars_copula(petty_action_dt,i,j,30,0.2,1.1)\n",
    "            m=a.shape[0];n=a.shape[1];p=a.isnull().sum().sum()\n",
    "            if p!=m*n:\n",
    "                print a"
   ]
  },
  {
   "cell_type": "markdown",
   "metadata": {},
   "source": [
    "解读：\n",
    "\n",
    "* mobileoperatorregdate_cut字段区分度较高\n",
    "* city_index_cut：2线城市反倒差？"
   ]
  },
  {
   "cell_type": "markdown",
   "metadata": {},
   "source": [
    "### 组合热力图"
   ]
  },
  {
   "cell_type": "code",
   "execution_count": null,
   "metadata": {
    "collapsed": true
   },
   "outputs": [],
   "source": [
    "# 筛选用信用户\n",
    "petty_action_dt=petty_data_set[petty_data_set.action==1]"
   ]
  },
  {
   "cell_type": "code",
   "execution_count": null,
   "metadata": {
    "collapsed": false
   },
   "outputs": [],
   "source": [
    "# 箱图分布\n",
    "fig, axs = plt.subplots(2, 2, figsize=(15, 15))\n",
    "# threshhold=0.05\n",
    "\n",
    "# 年龄\n",
    "df1=petty_action_dt.pivot_table(values=['action','odu_bid'], index='mobileoperatorregdate_cut', columns='education', aggfunc={\"action\":len,\"odu_bid\":np.sum}, margins=True)\n",
    "a1=df1['odu_bid']/df1['action']\n",
    "h1=sns.heatmap(a1.T,annot=True,fmt=\"0.2f\",ax=axs[0][0])\n",
    "\n",
    "df1=petty_action_dt.pivot_table(values=['action','odu_bid'], index='mobileoperatorregdate_cut', columns='education', aggfunc={\"action\":len,\"odu_bid\":np.sum}, margins=True)\n",
    "h2=sns.heatmap(df1['action'].T,annot=True,fmt=\"0.2f\",ax=axs[0][1])\n",
    "\n",
    "\n",
    "# 年龄\n",
    "df1=petty_action_dt.pivot_table(values=['action','odu_bid'], index='blacklisttype', columns='city_index_cut', aggfunc={\"action\":len,\"odu_bid\":np.sum}, margins=True)\n",
    "a1=df1['odu_bid']/df1['action']\n",
    "h1=sns.heatmap(a1.T,annot=True,fmt=\"0.2f\",ax=axs[1][0])\n",
    "\n",
    "df1=petty_action_dt.pivot_table(values=['action','odu_bid'], index='blacklisttype', columns='city_index_cut', aggfunc={\"action\":len,\"odu_bid\":np.sum}, margins=True)\n",
    "h2=sns.heatmap(df1['action'].T,annot=True,fmt=\"0.2f\",ax=axs[1][1])\n",
    "\n",
    "\n",
    "plt.show()\n"
   ]
  },
  {
   "cell_type": "markdown",
   "metadata": {},
   "source": [
    "解读：\n",
    "\n",
    "* 城市等级上之所以表现出二线城市高于三四线城市主要原因在于，三四线城市样本偏少"
   ]
  },
  {
   "cell_type": "markdown",
   "metadata": {},
   "source": [
    "### 坏用户特征"
   ]
  },
  {
   "cell_type": "markdown",
   "metadata": {},
   "source": [
    "* 手机入网时间不足一年，且无学历用户，整体逾期率在20%以上"
   ]
  },
  {
   "cell_type": "code",
   "execution_count": null,
   "metadata": {
    "collapsed": false
   },
   "outputs": [],
   "source": [
    "print 'A类群体中坏用户人数：{}；占比:{:.2%}'.format(data_set[(data_set.white_petty_bid =='A')&(data_set.mobileoperatorregdate_cut <=2)&(data_set.education==-1)].shape[0],data_set[(data_set.white_petty_bid =='A')&(data_set.mobileoperatorregdate_cut <=2)&(data_set.education==-1)].shape[0]*1.0/data_set.shape[0])\n",
    "print 'B类群体中坏用户人数：{}；占比:{:.2%}'.format(data_set[(data_set.white_petty_bid =='B')&(data_set.mobileoperatorregdate_cut <=2)&(data_set.education==-1)].shape[0],data_set[(data_set.white_petty_bid =='B')&(data_set.mobileoperatorregdate_cut <=2)&(data_set.education==-1)].shape[0]*1.0/data_set.shape[0])\n",
    "print 'C类群体中坏用户人数：{}；占比:{:.2%}'.format(data_set[(data_set.white_petty_bid =='C')&(data_set.mobileoperatorregdate_cut <=2)&(data_set.education==-1)].shape[0],data_set[(data_set.white_petty_bid =='C')&(data_set.mobileoperatorregdate_cut <=2)&(data_set.education==-1)].shape[0]*1.0/data_set.shape[0])\n",
    "print '\\n如果完全拒绝该类群体，平均每天拒绝用户人数增加{}人'.format((17569+4212+2010)/40)\n"
   ]
  },
  {
   "cell_type": "markdown",
   "metadata": {},
   "source": [
    "#### 特征细分"
   ]
  },
  {
   "cell_type": "code",
   "execution_count": null,
   "metadata": {
    "collapsed": false
   },
   "outputs": [],
   "source": [
    "# 组合手机入网时间和学历特征\n",
    "petty_action_dt.loc[petty_action_dt.education==-1,'edu']='no_edu'\n",
    "petty_action_dt.loc[petty_action_dt.education!=-1,'edu']='edu'\n",
    "petty_action_dt.loc[petty_action_dt.mobileoperatorregdate_cut<=2,'mobile_tag']='1_y'\n",
    "petty_action_dt.loc[petty_action_dt.mobileoperatorregdate_cut>2,'mobile_tag']='2_y'\n",
    "petty_action_dt['edu_tag_mobile']=petty_action_dt['edu']+'_'+petty_action_dt['mobile_tag']"
   ]
  },
  {
   "cell_type": "code",
   "execution_count": null,
   "metadata": {
    "collapsed": false
   },
   "outputs": [],
   "source": [
    "# 筛选特征\n",
    "def get_vars_copula(df,col,row,bid_cnt,lower_ratio,upper_ratio):\n",
    "    df_1=petty_action_dt.pivot_table(values=['action','odu_bid'], index=col, columns=row, aggfunc={\"action\":len,\"odu_bid\":np.sum})\n",
    "    df_2=df_1['odu_bid'][df_1.action>=bid_cnt]/df_1['action']\n",
    "    return df_2[(df_2>=lower_ratio)&(df_2<upper_ratio)]\n",
    "\n",
    "cut_vars=[x for x in petty_action_dt.columns if x.endswith('cut')]\n",
    "append_vars=['preacustseg','tongdunblacklevel','blacklisttype','edu_tag_mobile']\n",
    "index_vars=cut_vars+append_vars\n",
    "col_vars=['edu_tag_mobile']\n",
    "\n",
    "# 用信人数大于30人，逾期率大于20%人群组合特征\n",
    "# 如果全是Null值，则不输出\n",
    "for i in index_vars:\n",
    "    for j in col_vars:\n",
    "        if i != j:\n",
    "            a=get_vars_copula(petty_action_dt,i,j,30,0.2,1.1)\n",
    "            m=a.shape[0];n=a.shape[1];p=a.isnull().sum().sum()\n",
    "            if p!=m*n:\n",
    "                print a"
   ]
  },
  {
   "cell_type": "markdown",
   "metadata": {},
   "source": [
    "解读：\n",
    "\n",
    "* 黑名单等级为G3的群体质量更差"
   ]
  },
  {
   "cell_type": "code",
   "execution_count": null,
   "metadata": {
    "collapsed": false
   },
   "outputs": [],
   "source": [
    "# 筛选特征\n",
    "def get_vars_copula(df,col,row,bid_cnt,lower_ratio,upper_ratio):\n",
    "    df_1=petty_action_dt.pivot_table(values=['action','odu_bid'], index=col, columns=row, aggfunc={\"action\":len,\"odu_bid\":np.sum})\n",
    "    df_2=df_1['odu_bid'][df_1.action>=bid_cnt]/df_1['action']\n",
    "    return df_2[(df_2>=lower_ratio)&(df_2<upper_ratio)]\n",
    "\n",
    "cut_vars=[x for x in petty_action_dt.columns if x.endswith('cut')]\n",
    "append_vars=['preacustseg','tongdunblacklevel','blacklisttype','edu_tag_mobile']\n",
    "index_vars=cut_vars+append_vars\n",
    "col_vars=index_vars\n",
    "\n",
    "# 用信人数大于30人，逾期率大于20%人群组合特征\n",
    "# 如果全是Null值，则不输出\n",
    "for i in index_vars:\n",
    "    for j in col_vars:\n",
    "        if i != j:\n",
    "            a=get_vars_copula(petty_action_dt,i,j,200,0,0.05)\n",
    "            m=a.shape[0];n=a.shape[1];p=a.isnull().sum().sum()\n",
    "            if p!=m*n:\n",
    "                print a"
   ]
  },
  {
   "cell_type": "markdown",
   "metadata": {},
   "source": [
    "好用户：\n",
    "* bidnormalscoreexp3v2_cut<=1 & edu_2_y\n",
    "* edu_2_y，mobile对应2年及以上\n",
    "* 多头分比较低的C类客群也不错"
   ]
  },
  {
   "cell_type": "markdown",
   "metadata": {},
   "source": [
    "# 建模"
   ]
  },
  {
   "cell_type": "markdown",
   "metadata": {},
   "source": [
    "## 准备数据"
   ]
  },
  {
   "cell_type": "code",
   "execution_count": null,
   "metadata": {
    "collapsed": true
   },
   "outputs": [],
   "source": [
    "#加载所需库\n",
    "import numpy as np\n",
    "import matplotlib.pyplot as plt\n",
    "import pandas as pd\n",
    "import seaborn as sns\n",
    "from sklearn.model_selection import train_test_split\n",
    "from sklearn.metrics import accuracy_score\n",
    "from sklearn.neighbors import KNeighborsClassifier\n",
    "import matplotlib.pyplot as plt\n",
    "from sklearn.neighbors import KNeighborsClassifier\n",
    "from sklearn.metrics import accuracy_score\n",
    "\n",
    "from sklearn.linear_model import LogisticRegression\n",
    "from sklearn.svm import SVC\n",
    "from sklearn.tree import DecisionTreeClassifier"
   ]
  },
  {
   "cell_type": "code",
   "execution_count": null,
   "metadata": {
    "collapsed": true
   },
   "outputs": [],
   "source": [
    "# 超小额用户群体\n",
    "petty_data_set=data_set[data_set.white_petty_bid=='C']"
   ]
  },
  {
   "cell_type": "code",
   "execution_count": null,
   "metadata": {
    "collapsed": false
   },
   "outputs": [],
   "source": [
    "# 构建label\n",
    "# 用信逾期和用信未逾期\n",
    "petty_data_set.loc[(petty_data_set.action==1)&(petty_data_set.odu_bid==1),'label']=\"A\"\n",
    "petty_data_set.loc[(petty_data_set.action==1)&(petty_data_set.odu_bid==0),'label']=\"B\""
   ]
  },
  {
   "cell_type": "code",
   "execution_count": null,
   "metadata": {
    "collapsed": false
   },
   "outputs": [],
   "source": [
    "petty_data_set['label'].value_counts()"
   ]
  },
  {
   "cell_type": "code",
   "execution_count": null,
   "metadata": {
    "collapsed": true
   },
   "outputs": [],
   "source": [
    "# 数据集扩充和抽样\n",
    "data_1=pd.concat([petty_data_set[petty_data_set.label==\"A\"]]*5)\n",
    "data_2=petty_data_set[petty_data_set.label==\"B\"]\n",
    "\n",
    "\n",
    "# 合并数据\n",
    "data_set_new=pd.concat([data_1,data_2],ignore_index=True)"
   ]
  },
  {
   "cell_type": "code",
   "execution_count": null,
   "metadata": {
    "collapsed": true
   },
   "outputs": [],
   "source": [
    "# 筛选入模变量\n",
    "need_cols=['age','preaficoscorev5','zxaccountcnt','bidnormalscoreexp3v2','jiedaiscore']\n",
    "df_x=data_set_new[need_cols]\n",
    "# 缺失值填充\n",
    "df_x=df_x.fillna(0)"
   ]
  },
  {
   "cell_type": "code",
   "execution_count": null,
   "metadata": {
    "collapsed": false
   },
   "outputs": [],
   "source": [
    "# 数据归一化\n",
    "model_data_x=df_x.apply(lambda x: (x - np.min(x)) / (np.max(x) - np.min(x)))   \n",
    "# 筛选label\n",
    "model_data_y=data_set_new['label']"
   ]
  },
  {
   "cell_type": "code",
   "execution_count": null,
   "metadata": {
    "collapsed": false
   },
   "outputs": [],
   "source": [
    "# 合并数据集.axis=1表示横向合并数据\n",
    "model_data=pd.concat([model_data_x,model_data_y],axis=1)"
   ]
  },
  {
   "cell_type": "code",
   "execution_count": null,
   "metadata": {
    "collapsed": false
   },
   "outputs": [],
   "source": [
    "# 拆分训练集和测试集\n",
    "X_train, X_test, y_train, y_test = train_test_split(model_data_x, model_data_y, test_size=0.3, random_state=0)\n",
    "print('数据集样本数：{}，\\n 训练集样本数：{}，\\n 测试集样本数：{}'.format(len(model_data_x), len(X_train), len(X_test)))"
   ]
  },
  {
   "cell_type": "markdown",
   "metadata": {},
   "source": [
    "## 模型建立及选择"
   ]
  },
  {
   "cell_type": "code",
   "execution_count": null,
   "metadata": {
    "collapsed": false
   },
   "outputs": [],
   "source": [
    "# 筛选最优的K值\n",
    "k_range = range(1, 10)\n",
    "acc_scores = []\n",
    "\n",
    "for k in k_range:\n",
    "    knn = KNeighborsClassifier(n_neighbors=k)\n",
    "    knn.fit(X_train, y_train)\n",
    "    acc_scores.append(knn.score(X_test, y_test))\n",
    "\n",
    "\n",
    "# k和acc对应值 : dict是无序的，怎么从无序的字典中找出最大项呢\n",
    "acc_scores_dict=dict(zip(k_range,acc_scores))\n",
    "\n",
    "from collections import Counter\n",
    "# 找出value值最大项对应的key和value\n",
    "Counter(acc_scores_dict).most_common(3)"
   ]
  },
  {
   "cell_type": "code",
   "execution_count": null,
   "metadata": {
    "collapsed": false
   },
   "outputs": [],
   "source": [
    "# 建立模型\n",
    "knn = KNeighborsClassifier(n_neighbors=3)\n",
    "# 训练模型\n",
    "knn.fit(X_train, y_train)\n",
    "# 测试模型/预测\n",
    "y_pred = knn.predict(X_test)\n",
    "\n",
    "# 概率预测输出每个样本属于某一类的概率\n",
    "# 输出的结果是array。其中p[i][j] 是通过概率 kNN 判断 X[i] 属于第 j 类的概率\n",
    "y_prob=knn.predict_proba(X_test)\n",
    "\n",
    "# 两种计算精度的方法\n",
    "acc = accuracy_score(y_test, y_pred)\n",
    "\n",
    "print('acc_ratio:{:.2%}'.format(acc))"
   ]
  },
  {
   "cell_type": "code",
   "execution_count": null,
   "metadata": {
    "collapsed": false
   },
   "outputs": [],
   "source": [
    "# 忽略警告信息\n",
    "import warnings\n",
    "warnings.filterwarnings(\"ignore\")\n",
    "\n",
    "result_data=X_test\n",
    "result_data['y_test']=y_test\n",
    "result_data['y_pred']=y_pred\n",
    "result_data.reset_index(drop=True).head(100)"
   ]
  }
 ],
 "metadata": {
  "kernelspec": {
   "display_name": "Python 2",
   "language": "python",
   "name": "python2"
  },
  "language_info": {
   "codemirror_mode": {
    "name": "ipython",
    "version": 2
   },
   "file_extension": ".py",
   "mimetype": "text/x-python",
   "name": "python",
   "nbconvert_exporter": "python",
   "pygments_lexer": "ipython2",
   "version": "2.7.13"
  },
  "toc": {
   "nav_menu": {},
   "number_sections": true,
   "sideBar": true,
   "skip_h1_title": false,
   "title_cell": "Table of Contents",
   "title_sidebar": "超小额用户用信及逾期分析2.0",
   "toc_cell": false,
   "toc_position": {
    "height": "calc(100% - 180px)",
    "left": "10px",
    "top": "150px",
    "width": "295px"
   },
   "toc_section_display": true,
   "toc_window_display": true
  }
 },
 "nbformat": 4,
 "nbformat_minor": 2
}
