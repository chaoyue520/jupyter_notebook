{
 "cells": [
  {
   "cell_type": "code",
   "execution_count": 1,
   "metadata": {
    "collapsed": true
   },
   "outputs": [],
   "source": [
    "#!/usr/bin/evn python\n",
    "#-*- coding: utf-8 -*-\n",
    "\n",
    "import urllib\n",
    "import urllib2\n",
    "import json\n",
    "import pandas as pd\n",
    "import os\n",
    "import pandas as pd\n",
    "import numpy as np\n",
    "#显示所有列\n",
    "pd.set_option('display.max_columns', 10)\n",
    "#显示所有行\n",
    "pd.set_option('display.max_rows', 10)\n",
    "#设置value的显示长度为100，默认为50\n",
    "pd.set_option('max_colwidth',10000)"
   ]
  },
  {
   "cell_type": "markdown",
   "metadata": {},
   "source": [
    "# load data"
   ]
  },
  {
   "cell_type": "code",
   "execution_count": null,
   "metadata": {
    "collapsed": true
   },
   "outputs": [],
   "source": [
    "# load data\n",
    "data_set=pd.read_table('id_no_0106.txt',sep='\\t',header=0,names=['mobile_hash','phone','id_initial','card_initial'])\n",
    "data_set.head()"
   ]
  },
  {
   "cell_type": "markdown",
   "metadata": {},
   "source": [
    "# 测试"
   ]
  },
  {
   "cell_type": "code",
   "execution_count": null,
   "metadata": {
    "collapsed": true
   },
   "outputs": [],
   "source": [
    "http://pay.autohome.com.cn/washing-number/realName/genHash.htm?_appid=qczf&consumerId=qcjr.dev.payment\n",
    "    &custName=P116318760\n",
    "    &idNo=P81495026\n",
    "    &mobile=P16466104\n",
    "    &cardNo=P294137118"
   ]
  },
  {
   "cell_type": "code",
   "execution_count": 9,
   "metadata": {},
   "outputs": [
    {
     "name": "stdout",
     "output_type": "stream",
     "text": [
      "gHIUe3iE35cksqkMaXUz2tC9xp5ihRRuMD9/2qNh05wAdgAAAAE=\n"
     ]
    }
   ],
   "source": [
    "# 身份证号测试\n",
    "s='P81495026'\n",
    "\n",
    "# 测试一个手机号试一下\n",
    "url = '''http://pay.autohome.com.cn/washing-number/realName/genHash.htm?_appid=qczf&consumerId=qcjr.dev.payment&idNo=%(1)s'''%{'1':s}\n",
    "req = urllib2.Request(url)\n",
    "res_data = urllib2.urlopen(req)\n",
    "json_str = res_data.read()\n",
    "json_obj = json.loads(json_str)\n",
    "\n",
    "print json_obj['idNo']\n"
   ]
  },
  {
   "cell_type": "markdown",
   "metadata": {},
   "source": [
    "# 身份证号解密"
   ]
  },
  {
   "cell_type": "code",
   "execution_count": 37,
   "metadata": {},
   "outputs": [
    {
     "data": {
      "text/html": [
       "<div>\n",
       "<style>\n",
       "    .dataframe thead tr:only-child th {\n",
       "        text-align: right;\n",
       "    }\n",
       "\n",
       "    .dataframe thead th {\n",
       "        text-align: left;\n",
       "    }\n",
       "\n",
       "    .dataframe tbody tr th {\n",
       "        vertical-align: top;\n",
       "    }\n",
       "</style>\n",
       "<table border=\"1\" class=\"dataframe\">\n",
       "  <thead>\n",
       "    <tr style=\"text-align: right;\">\n",
       "      <th></th>\n",
       "      <th>mobile_hash</th>\n",
       "      <th>id_initial</th>\n",
       "    </tr>\n",
       "  </thead>\n",
       "  <tbody>\n",
       "    <tr>\n",
       "      <th>0</th>\n",
       "      <td>0000f50fb74f427ffa60daf04e43effe67068da9d30c06ea911bdea7bbfa1bb6</td>\n",
       "      <td>P282227488</td>\n",
       "    </tr>\n",
       "    <tr>\n",
       "      <th>1</th>\n",
       "      <td>000223184d00256e5de3a0115d525895c47f4a9804e3cee3484fbf6dffd6f6b0</td>\n",
       "      <td>P304748806</td>\n",
       "    </tr>\n",
       "    <tr>\n",
       "      <th>2</th>\n",
       "      <td>00022aecf18524455efc768692309abc5cb5f613bf4e627d49ad27e293eef80e</td>\n",
       "      <td>P195738239</td>\n",
       "    </tr>\n",
       "    <tr>\n",
       "      <th>4</th>\n",
       "      <td>000641c2634b84ec40e7f56ae68128ddd30801acc0b4d7dceaf7c21bf2762406</td>\n",
       "      <td>P342373855</td>\n",
       "    </tr>\n",
       "    <tr>\n",
       "      <th>7</th>\n",
       "      <td>000b6d48b1f3bac3a4c817927da614d6aae73824e5ef9bbb296f9a4fb3124ff8</td>\n",
       "      <td>P193756379</td>\n",
       "    </tr>\n",
       "  </tbody>\n",
       "</table>\n",
       "</div>"
      ],
      "text/plain": [
       "                                                        mobile_hash  \\\n",
       "0  0000f50fb74f427ffa60daf04e43effe67068da9d30c06ea911bdea7bbfa1bb6   \n",
       "1  000223184d00256e5de3a0115d525895c47f4a9804e3cee3484fbf6dffd6f6b0   \n",
       "2  00022aecf18524455efc768692309abc5cb5f613bf4e627d49ad27e293eef80e   \n",
       "4  000641c2634b84ec40e7f56ae68128ddd30801acc0b4d7dceaf7c21bf2762406   \n",
       "7  000b6d48b1f3bac3a4c817927da614d6aae73824e5ef9bbb296f9a4fb3124ff8   \n",
       "\n",
       "   id_initial  \n",
       "0  P282227488  \n",
       "1  P304748806  \n",
       "2  P195738239  \n",
       "4  P342373855  \n",
       "7  P193756379  "
      ]
     },
     "execution_count": 37,
     "metadata": {},
     "output_type": "execute_result"
    }
   ],
   "source": [
    "# 筛选非空身份证号, 并整体去重\n",
    "data_id=data_set[data_set.id_initial.notnull()][['mobile_hash','id_initial']].drop_duplicates()\n",
    "data_id.head()"
   ]
  },
  {
   "cell_type": "code",
   "execution_count": 38,
   "metadata": {},
   "outputs": [
    {
     "data": {
      "text/plain": [
       "(21498, 2)"
      ]
     },
     "execution_count": 38,
     "metadata": {},
     "output_type": "execute_result"
    }
   ],
   "source": [
    "data_id.shape"
   ]
  },
  {
   "cell_type": "markdown",
   "metadata": {},
   "source": [
    "## 原始转可逆密文"
   ]
  },
  {
   "cell_type": "code",
   "execution_count": null,
   "metadata": {
    "collapsed": true
   },
   "outputs": [],
   "source": [
    "id_miwen=[]\n",
    "for id_i in data_id['id_initial']:\n",
    "    url = '''http://pay.autohome.com.cn/washing-number/realName/genHash.htm?_appid=qczf&consumerId=qcjr.dev.payment&idNo=%(1)s'''%{'1':id_i}\n",
    "    req = urllib2.Request(url)\n",
    "    res_data = urllib2.urlopen(req)\n",
    "    json_str = res_data.read()\n",
    "    json_obj = json.loads(json_str)\n",
    "    id_miwen.append(json_obj['idNo'])\n",
    "\n",
    "\n",
    "data_id['id_miwen']=id_miwen\n",
    "data_id.head()"
   ]
  },
  {
   "cell_type": "code",
   "execution_count": null,
   "metadata": {
    "collapsed": true
   },
   "outputs": [],
   "source": [
    "data_id.head()"
   ]
  },
  {
   "cell_type": "markdown",
   "metadata": {},
   "source": [
    "## 可逆密文urlencode"
   ]
  },
  {
   "cell_type": "code",
   "execution_count": null,
   "metadata": {
    "collapsed": true
   },
   "outputs": [],
   "source": [
    "data_id=data_id.reset_index()\n",
    "id_urlencode=[]\n",
    "for i in range(data_id.shape[0]):\n",
    "    i_dict={}\n",
    "    i_dict['name']=data_id['id_miwen'][i]\n",
    "    id_urlencode.append(urllib.urlencode(i_dict))\n",
    "    \n",
    "\n",
    "data_id['id_urlencode']=id_urlencode"
   ]
  },
  {
   "cell_type": "code",
   "execution_count": null,
   "metadata": {
    "collapsed": true
   },
   "outputs": [],
   "source": [
    "# 去掉字典的key值\n",
    "a=[]\n",
    "for i in data_id['id_urlencode']:\n",
    "    a.append(i.split('=')[1])\n",
    "\n",
    "\n",
    "data_id['id_urlencode_last']=a"
   ]
  },
  {
   "cell_type": "markdown",
   "metadata": {},
   "source": [
    "## 可逆密文转明文"
   ]
  },
  {
   "cell_type": "code",
   "execution_count": null,
   "metadata": {
    "collapsed": true
   },
   "outputs": [],
   "source": [
    "# http://se-j.api.autohome.com.cn/mobile/decrypt?_appid=qczf&consumerId=qcjr.dev.payment&ciphers="
   ]
  },
  {
   "cell_type": "code",
   "execution_count": 12,
   "metadata": {},
   "outputs": [
    {
     "name": "stdout",
     "output_type": "stream",
     "text": [
      "320830198611171216\n"
     ]
    }
   ],
   "source": [
    "# 身份证号测试\n",
    "s='gHIUe3iE35cksqkMaXUz2tC9xp5ihRRuMD9/2qNh05wAdgAAAAE='\n",
    "\n",
    "# 测试一个手机号试一下\n",
    "url = '''http://se-j.api.autohome.com.cn/mobile/decrypt?_appid=qczf&consumerId=qcjr.dev.payment&ciphers=%(1)s'''%{'1':s}\n",
    "req = urllib2.Request(url)\n",
    "res_data = urllib2.urlopen(req)\n",
    "json_str = res_data.read()\n",
    "json_obj = json.loads(json_str)\n",
    "\n",
    "print json_obj['result'][0]['mobile']"
   ]
  },
  {
   "cell_type": "code",
   "execution_count": null,
   "metadata": {
    "collapsed": true
   },
   "outputs": [],
   "source": [
    "id_mingwen=[]\n",
    "for id_i in data_id['id_urlencode_last']:\n",
    "    url = '''http://se-j.api.autohome.com.cn/mobile/decrypt?_appid=qczf&consumerId=qcjr.dev.payment&ciphers=%(1)s'''%{'1':id_i}\n",
    "    req = urllib2.Request(url)\n",
    "    res_data = urllib2.urlopen(req)\n",
    "    json_str = res_data.read()\n",
    "    json_obj = json.loads(json_str)\n",
    "    id_mingwen.append(json_obj['result'][0]['mobile'])\n",
    "\n",
    "\n",
    "data_id['id_mingwen']=id_mingwen"
   ]
  },
  {
   "cell_type": "code",
   "execution_count": null,
   "metadata": {
    "collapsed": true
   },
   "outputs": [],
   "source": [
    "data_id.head()"
   ]
  },
  {
   "cell_type": "markdown",
   "metadata": {},
   "source": [
    "## 身份信息解析\n",
    "\n",
    "* 前1、2位数字表示：所在省份的代码；\n",
    "* 第3、4位数字表示：所在城市的代码；\n",
    "* 第5、6位数字表示：所在区县的代码；\n",
    "* 第7~14位数字表示：出生年、月、日；\n",
    "* 第15、16位数字表示：所在地的派出所的代码；\n",
    "* 第17位数字表示性别：奇数表示男性，偶数表示女性；\n"
   ]
  },
  {
   "cell_type": "code",
   "execution_count": null,
   "metadata": {
    "collapsed": true
   },
   "outputs": [],
   "source": [
    "s='320830198611171216'\n",
    "s[-2]"
   ]
  },
  {
   "cell_type": "code",
   "execution_count": null,
   "metadata": {
    "collapsed": true
   },
   "outputs": [],
   "source": [
    "# s[-2]\n",
    "\n",
    "sex=[]\n",
    "age=[]\n",
    "province=[]\n",
    "city=[]\n",
    "country=[]\n",
    "\n",
    "for i in data_id['id_mingwen']:\n",
    "    sex.append(i[-2])\n",
    "    age.append(i[6:10])\n",
    "    province.append(i[0:2])\n",
    "    city.append(i[0:4])\n",
    "    country.append(i[0:6])\n",
    "\n",
    "\n",
    "data_id['sex_id']=sex\n",
    "data_id['age_id']=age\n",
    "data_id['province_id']=province\n",
    "data_id['city_id']=city\n",
    "data_id['country_id']=country"
   ]
  },
  {
   "cell_type": "code",
   "execution_count": null,
   "metadata": {
    "collapsed": true
   },
   "outputs": [],
   "source": []
  },
  {
   "cell_type": "markdown",
   "metadata": {},
   "source": [
    "## 导出身份证明文数据"
   ]
  },
  {
   "cell_type": "code",
   "execution_count": null,
   "metadata": {
    "collapsed": true
   },
   "outputs": [],
   "source": [
    "# load data\n",
    "data_id[['mobile_hash','id_initial','sex_id','age_id','province_id','city_id','country_id']].to_csv('data_id_0106.txt'\n",
    "                ,sep = ','\n",
    "                ,index = False\n",
    "                ,encoding = 'utf-8')"
   ]
  },
  {
   "cell_type": "markdown",
   "metadata": {},
   "source": [
    "# 银行卡号解密"
   ]
  },
  {
   "cell_type": "code",
   "execution_count": 46,
   "metadata": {},
   "outputs": [
    {
     "name": "stdout",
     "output_type": "stream",
     "text": [
      "EpGijZZ0+tP0moiN60YQZ0adVduULtPL4iTdOkNiEP0AdgAAAAE=\n"
     ]
    }
   ],
   "source": [
    "# 身份证号测试\n",
    "s='P308694845'\n",
    "\n",
    "# 测试一个手机号试一下\n",
    "url = '''http://pay.autohome.com.cn/washing-number/realName/genHash.htm?_appid=qczf&consumerId=qcjr.dev.payment&cardNo=%(1)s'''%{'1':s}\n",
    "req = urllib2.Request(url)\n",
    "res_data = urllib2.urlopen(req)\n",
    "json_str = res_data.read()\n",
    "json_obj = json.loads(json_str)\n",
    "\n",
    "print json_obj['cardNo']"
   ]
  },
  {
   "cell_type": "code",
   "execution_count": 43,
   "metadata": {},
   "outputs": [
    {
     "data": {
      "text/html": [
       "<div>\n",
       "<style>\n",
       "    .dataframe thead tr:only-child th {\n",
       "        text-align: right;\n",
       "    }\n",
       "\n",
       "    .dataframe thead th {\n",
       "        text-align: left;\n",
       "    }\n",
       "\n",
       "    .dataframe tbody tr th {\n",
       "        vertical-align: top;\n",
       "    }\n",
       "</style>\n",
       "<table border=\"1\" class=\"dataframe\">\n",
       "  <thead>\n",
       "    <tr style=\"text-align: right;\">\n",
       "      <th></th>\n",
       "      <th>mobile_hash</th>\n",
       "      <th>card_initial</th>\n",
       "    </tr>\n",
       "  </thead>\n",
       "  <tbody>\n",
       "    <tr>\n",
       "      <th>0</th>\n",
       "      <td>0000f50fb74f427ffa60daf04e43effe67068da9d30c06ea911bdea7bbfa1bb6</td>\n",
       "      <td>P308694845</td>\n",
       "    </tr>\n",
       "    <tr>\n",
       "      <th>2</th>\n",
       "      <td>00022aecf18524455efc768692309abc5cb5f613bf4e627d49ad27e293eef80e</td>\n",
       "      <td>P302539216</td>\n",
       "    </tr>\n",
       "    <tr>\n",
       "      <th>7</th>\n",
       "      <td>000b6d48b1f3bac3a4c817927da614d6aae73824e5ef9bbb296f9a4fb3124ff8</td>\n",
       "      <td>P302412584</td>\n",
       "    </tr>\n",
       "    <tr>\n",
       "      <th>10</th>\n",
       "      <td>000d598aa2aa27deaa913652163ef18d00bbe74588abdcfe06d00d6e3d315d94</td>\n",
       "      <td>P293474905</td>\n",
       "    </tr>\n",
       "    <tr>\n",
       "      <th>15</th>\n",
       "      <td>0012f47b02b3a24183fd552c49ca9ec1059a3aa3573d677e552ef503a89c7771</td>\n",
       "      <td>P308851532</td>\n",
       "    </tr>\n",
       "  </tbody>\n",
       "</table>\n",
       "</div>"
      ],
      "text/plain": [
       "                                                         mobile_hash  \\\n",
       "0   0000f50fb74f427ffa60daf04e43effe67068da9d30c06ea911bdea7bbfa1bb6   \n",
       "2   00022aecf18524455efc768692309abc5cb5f613bf4e627d49ad27e293eef80e   \n",
       "7   000b6d48b1f3bac3a4c817927da614d6aae73824e5ef9bbb296f9a4fb3124ff8   \n",
       "10  000d598aa2aa27deaa913652163ef18d00bbe74588abdcfe06d00d6e3d315d94   \n",
       "15  0012f47b02b3a24183fd552c49ca9ec1059a3aa3573d677e552ef503a89c7771   \n",
       "\n",
       "   card_initial  \n",
       "0    P308694845  \n",
       "2    P302539216  \n",
       "7    P302412584  \n",
       "10   P293474905  \n",
       "15   P308851532  "
      ]
     },
     "execution_count": 43,
     "metadata": {},
     "output_type": "execute_result"
    }
   ],
   "source": [
    "# 筛选非空身份证号, 并整体去重\n",
    "data_card=data_set[data_set.card_initial.notnull()][['mobile_hash','card_initial']].drop_duplicates()\n",
    "data_card.head()"
   ]
  },
  {
   "cell_type": "markdown",
   "metadata": {},
   "source": [
    "## 原始转可逆密文"
   ]
  },
  {
   "cell_type": "code",
   "execution_count": null,
   "metadata": {
    "collapsed": true
   },
   "outputs": [],
   "source": [
    "card_miwen=[]\n",
    "for card_i in data_card['card_initial']:\n",
    "    url = '''http://pay.autohome.com.cn/washing-number/realName/genHash.htm?_appid=qczf&consumerId=qcjr.dev.payment&cardNo=%(1)s'''%{'1':card_i}\n",
    "    req = urllib2.Request(url)\n",
    "    res_data = urllib2.urlopen(req)\n",
    "    json_str = res_data.read()\n",
    "    json_obj = json.loads(json_str)\n",
    "    card_miwen.append(json_obj['cardNo'])\n",
    "\n",
    "\n",
    "data_card['card_miwen']=card_miwen\n",
    "data_card.head()"
   ]
  },
  {
   "cell_type": "markdown",
   "metadata": {},
   "source": [
    "## 可逆密文urlencode"
   ]
  },
  {
   "cell_type": "code",
   "execution_count": 108,
   "metadata": {},
   "outputs": [
    {
     "data": {
      "text/plain": [
       "'name=SGRiv2ClYhke8vPH4YJm8IdGD%2FngWF034jYPGxcu%2FFwAdgAAAAE%3D'"
      ]
     },
     "execution_count": 108,
     "metadata": {},
     "output_type": "execute_result"
    }
   ],
   "source": [
    "# 测试\n",
    "a={}\n",
    "a['name']='SGRiv2ClYhke8vPH4YJm8IdGD/ngWF034jYPGxcu/FwAdgAAAAE='\n",
    "\n",
    "s={'name':'SGRiv2ClYhke8vPH4YJm8IdGD/ngWF034jYPGxcu/FwAdgAAAAE='}\n",
    "s\n",
    "urllib.urlencode(a)\n",
    "# urlencode(s)"
   ]
  },
  {
   "cell_type": "code",
   "execution_count": null,
   "metadata": {
    "collapsed": true
   },
   "outputs": [],
   "source": [
    "data_card=data_card.reset_index()\n",
    "card_urlencode=[]\n",
    "for i in range(data_card.shape[0]):\n",
    "    i_dict={}\n",
    "    i_dict['name']=data_card['card_miwen'][i]\n",
    "    card_urlencode.append(urllib.urlencode(i_dict))\n",
    "    \n",
    "\n",
    "data_card['card_urlencode']=card_urlencode"
   ]
  },
  {
   "cell_type": "code",
   "execution_count": null,
   "metadata": {
    "collapsed": true
   },
   "outputs": [],
   "source": [
    "# 去掉字典的key值\n",
    "a=[]\n",
    "for i in data_card['card_urlencode']:\n",
    "    a.append(i.split('=')[1])\n",
    "\n",
    "\n",
    "data_card['card_urlencode_last']=a"
   ]
  },
  {
   "cell_type": "markdown",
   "metadata": {},
   "source": [
    "## 可逆密文转明文"
   ]
  },
  {
   "cell_type": "code",
   "execution_count": 83,
   "metadata": {},
   "outputs": [
    {
     "name": "stdout",
     "output_type": "stream",
     "text": [
      "140502198909180515\n"
     ]
    }
   ],
   "source": [
    "# 银行卡测试\n",
    "s='0%2FhZ9ybAmBK8ejYvq0MEON7VFlcqrd5nnKk0vkW6IvcAdgAAAAE%3D'\n",
    "\n",
    "# 测试一个手机号试一下\n",
    "url = '''http://se-j.api.autohome.com.cn/mobile/decrypt?_appid=qczf&consumerId=qcjr.dev.payment&ciphers=%(1)s'''%{'1':s}\n",
    "req = urllib2.Request(url)\n",
    "res_data = urllib2.urlopen(req)\n",
    "json_str = res_data.read()\n",
    "json_obj = json.loads(json_str)\n",
    "\n",
    "print json_obj['result'][0]['mobile']"
   ]
  },
  {
   "cell_type": "code",
   "execution_count": 51,
   "metadata": {},
   "outputs": [
    {
     "data": {
      "text/plain": [
       "19"
      ]
     },
     "execution_count": 51,
     "metadata": {},
     "output_type": "execute_result"
    }
   ],
   "source": [
    "card_mingwen=[]\n",
    "for card_i in data_card['card_urlencode_last']:\n",
    "    url = '''http://se-j.api.autohome.com.cn/mobile/decrypt?_appid=qczf&consumerId=qcjr.dev.payment&ciphers=%(1)s'''%{'1':card_i}\n",
    "    req = urllib2.Request(url)\n",
    "    res_data = urllib2.urlopen(req)\n",
    "    json_str = res_data.read()\n",
    "    json_obj = json.loads(json_str)\n",
    "    card_mingwen.append(json_obj['result'][0]['mobile'])\n",
    "\n",
    "\n",
    "data_card['card_mingwen']=card_mingwen"
   ]
  },
  {
   "cell_type": "code",
   "execution_count": null,
   "metadata": {
    "collapsed": true
   },
   "outputs": [],
   "source": [
    "data_card.head()"
   ]
  },
  {
   "cell_type": "markdown",
   "metadata": {},
   "source": [
    "## 卡信息解析\n",
    "\n",
    "* 1-6是卡BIN号\n",
    "* 7-10是地区码\n",
    "* 11-18是顺序号，系统自动生成,无重复\n",
    "* 19位是校验位。"
   ]
  },
  {
   "cell_type": "code",
   "execution_count": 57,
   "metadata": {},
   "outputs": [
    {
     "data": {
      "text/plain": [
       "'0010'"
      ]
     },
     "execution_count": 57,
     "metadata": {},
     "output_type": "execute_result"
    }
   ],
   "source": [
    "s='6217000010067732985'\n",
    "s[6:10]"
   ]
  },
  {
   "cell_type": "code",
   "execution_count": null,
   "metadata": {
    "collapsed": true
   },
   "outputs": [],
   "source": [
    "# s[-2]\n",
    "\n",
    "card_bin=[]\n",
    "card_city=[]\n",
    "\n",
    "for i in data_card['card_mingwen']:\n",
    "    card_bin.append(i[0:6])\n",
    "    card_city.append(i[6:10])\n",
    "\n",
    "\n",
    "data_card['card_bin_id']=card_bin\n",
    "data_card['card_city_id']=card_city\n"
   ]
  },
  {
   "cell_type": "markdown",
   "metadata": {},
   "source": [
    "## 导出银行卡明文数据"
   ]
  },
  {
   "cell_type": "code",
   "execution_count": null,
   "metadata": {
    "collapsed": true
   },
   "outputs": [],
   "source": [
    "# load data\n",
    "data_card[['mobile_hash','card_initial','card_mingwen']].to_csv('data_card_0106.txt'\n",
    "                ,sep = ','\n",
    "                ,index = False\n",
    "                ,encoding = 'utf-8')"
   ]
  },
  {
   "cell_type": "code",
   "execution_count": null,
   "metadata": {
    "collapsed": true
   },
   "outputs": [],
   "source": []
  },
  {
   "cell_type": "code",
   "execution_count": 59,
   "metadata": {},
   "outputs": [
    {
     "data": {
      "text/html": [
       "<div>\n",
       "<style>\n",
       "    .dataframe thead tr:only-child th {\n",
       "        text-align: right;\n",
       "    }\n",
       "\n",
       "    .dataframe thead th {\n",
       "        text-align: left;\n",
       "    }\n",
       "\n",
       "    .dataframe tbody tr th {\n",
       "        vertical-align: top;\n",
       "    }\n",
       "</style>\n",
       "<table border=\"1\" class=\"dataframe\">\n",
       "  <thead>\n",
       "    <tr style=\"text-align: right;\">\n",
       "      <th></th>\n",
       "      <th>bin_id</th>\n",
       "      <th>card_type</th>\n",
       "      <th>card_name</th>\n",
       "    </tr>\n",
       "  </thead>\n",
       "  <tbody>\n",
       "    <tr>\n",
       "      <th>0</th>\n",
       "      <td>694301</td>\n",
       "      <td>借记卡</td>\n",
       "      <td>长沙市商业银行</td>\n",
       "    </tr>\n",
       "    <tr>\n",
       "      <th>1</th>\n",
       "      <td>690755</td>\n",
       "      <td>储蓄卡</td>\n",
       "      <td>招商</td>\n",
       "    </tr>\n",
       "    <tr>\n",
       "      <th>2</th>\n",
       "      <td>690755</td>\n",
       "      <td>储蓄卡</td>\n",
       "      <td>招商</td>\n",
       "    </tr>\n",
       "    <tr>\n",
       "      <th>3</th>\n",
       "      <td>685800</td>\n",
       "      <td>借记卡</td>\n",
       "      <td>广东发展银行</td>\n",
       "    </tr>\n",
       "    <tr>\n",
       "      <th>4</th>\n",
       "      <td>685800</td>\n",
       "      <td>信用卡</td>\n",
       "      <td>广东发展银行</td>\n",
       "    </tr>\n",
       "  </tbody>\n",
       "</table>\n",
       "</div>"
      ],
      "text/plain": [
       "   bin_id card_type card_name\n",
       "0  694301       借记卡   长沙市商业银行\n",
       "1  690755       储蓄卡        招商\n",
       "2  690755       储蓄卡        招商\n",
       "3  685800       借记卡    广东发展银行\n",
       "4  685800       信用卡    广东发展银行"
      ]
     },
     "execution_count": 59,
     "metadata": {},
     "output_type": "execute_result"
    }
   ],
   "source": [
    "# load data\n",
    "card_index=pd.read_table('card_bin_index.txt',sep='\\t',header=0,names=['bin_id','card_type','card_name'])\n",
    "card_index.head()"
   ]
  }
 ],
 "metadata": {
  "kernelspec": {
   "display_name": "Python 2",
   "language": "python",
   "name": "python2"
  },
  "language_info": {
   "codemirror_mode": {
    "name": "ipython",
    "version": 2
   },
   "file_extension": ".py",
   "mimetype": "text/x-python",
   "name": "python",
   "nbconvert_exporter": "python",
   "pygments_lexer": "ipython2",
   "version": "2.7.14"
  },
  "toc": {
   "nav_menu": {},
   "number_sections": true,
   "sideBar": true,
   "skip_h1_title": false,
   "title_cell": "Table of Contents",
   "title_sidebar": "Contents",
   "toc_cell": false,
   "toc_position": {
    "height": "calc(100% - 180px)",
    "left": "10px",
    "top": "150px",
    "width": "203px"
   },
   "toc_section_display": true,
   "toc_window_display": true
  }
 },
 "nbformat": 4,
 "nbformat_minor": 2
}
