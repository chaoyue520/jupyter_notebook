{
 "cells": [
  {
   "cell_type": "markdown",
   "metadata": {},
   "source": [
    "# [如何在Jupyter中编辑公式](http://data-blog.udacity.com/posts/2016/10/latex-primer/)"
   ]
  },
  {
   "cell_type": "markdown",
   "metadata": {},
   "source": [
    "## 公式嵌入文字中"
   ]
  },
  {
   "cell_type": "markdown",
   "metadata": {},
   "source": [
    "如何将公式嵌套在文字中呢？使用 **\\$** 符号放在公式前后即可；类似于这样的$P(A\\mid B) = \\frac{P(B\\mid A)P(A)}{P(B)}$.\n",
    "That is all"
   ]
  },
  {
   "cell_type": "markdown",
   "metadata": {},
   "source": [
    "如何将公式嵌套在文字中呢？使用 **\\$** 符号放在公式前后即可；类似于这样的$P(A\\mid B) = \\frac{P(B\\mid A)P(A)}{P(B)}$.\n",
    "That is all"
   ]
  },
  {
   "cell_type": "markdown",
   "metadata": {},
   "source": [
    "## 公式独立成块"
   ]
  },
  {
   "cell_type": "markdown",
   "metadata": {},
   "source": [
    "如何让公式独立成块，形成类似于一个段落那样呢？使用 **\\$$** 符号放在公式前后即可；类似于这样的$$P(A\\mid B) = \\frac{P(B\\mid A)P(A)}{P(B)}$$.\n",
    "That is all"
   ]
  },
  {
   "cell_type": "markdown",
   "metadata": {},
   "source": [
    "如何让公式独立成块，形成类似于一个段落那样呢？使用 **\\$$** 符号放在公式前后即可；类似于这样的$$P(A\\mid B) = \\frac{P(B\\mid A)P(A)}{P(B)}$$.\n",
    "That is all"
   ]
  }
 ],
 "metadata": {
  "kernelspec": {
   "display_name": "Python 2",
   "language": "python",
   "name": "python2"
  },
  "language_info": {
   "codemirror_mode": {
    "name": "ipython",
    "version": 2
   },
   "file_extension": ".py",
   "mimetype": "text/x-python",
   "name": "python",
   "nbconvert_exporter": "python",
   "pygments_lexer": "ipython2",
   "version": "2.7.13"
  },
  "toc": {
   "nav_menu": {},
   "number_sections": true,
   "sideBar": true,
   "skip_h1_title": false,
   "title_cell": "Table of Contents",
   "title_sidebar": "Contents",
   "toc_cell": false,
   "toc_position": {},
   "toc_section_display": true,
   "toc_window_display": false
  }
 },
 "nbformat": 4,
 "nbformat_minor": 2
}
